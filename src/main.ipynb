{
 "cells": [
  {
   "cell_type": "code",
   "execution_count": 100,
   "id": "d8cfe273",
   "metadata": {},
   "outputs": [],
   "source": [
    "import pandas as pd\n",
    "import numpy as np\n",
    "from sklearn.preprocessing import MinMaxScaler\n"
   ]
  },
  {
   "cell_type": "code",
   "execution_count": 101,
   "id": "7a427f4c",
   "metadata": {},
   "outputs": [
    {
     "name": "stdout",
     "output_type": "stream",
     "text": [
      "<class 'pandas.core.frame.DataFrame'>\n",
      "RangeIndex: 1762 entries, 0 to 1761\n",
      "Data columns (total 6 columns):\n",
      " #   Column  Non-Null Count  Dtype \n",
      "---  ------  --------------  ----- \n",
      " 0   Price   1762 non-null   object\n",
      " 1   Close   1761 non-null   object\n",
      " 2   High    1761 non-null   object\n",
      " 3   Low     1761 non-null   object\n",
      " 4   Open    1761 non-null   object\n",
      " 5   Volume  1761 non-null   object\n",
      "dtypes: object(6)\n",
      "memory usage: 82.7+ KB\n"
     ]
    }
   ],
   "source": [
    "df = pd.read_csv('tsmc_data.csv')\n",
    "df.info()"
   ]
  },
  {
   "cell_type": "code",
   "execution_count": null,
   "id": "fab981c8",
   "metadata": {},
   "outputs": [],
   "source": []
  },
  {
   "cell_type": "code",
   "execution_count": 102,
   "id": "afc6ab8d",
   "metadata": {},
   "outputs": [
    {
     "data": {
      "text/plain": [
       "Price     0\n",
       "Close     0\n",
       "High      0\n",
       "Low       0\n",
       "Open      0\n",
       "Volume    0\n",
       "dtype: int64"
      ]
     },
     "execution_count": 102,
     "metadata": {},
     "output_type": "execute_result"
    }
   ],
   "source": [
    "df = df.drop(index=[0, 1])\n",
    "missing_val = df.isnull().sum()\n",
    "missing_val"
   ]
  },
  {
   "cell_type": "code",
   "execution_count": 103,
   "id": "70301d5e",
   "metadata": {},
   "outputs": [
    {
     "data": {
      "text/html": [
       "<div>\n",
       "<style scoped>\n",
       "    .dataframe tbody tr th:only-of-type {\n",
       "        vertical-align: middle;\n",
       "    }\n",
       "\n",
       "    .dataframe tbody tr th {\n",
       "        vertical-align: top;\n",
       "    }\n",
       "\n",
       "    .dataframe thead th {\n",
       "        text-align: right;\n",
       "    }\n",
       "</style>\n",
       "<table border=\"1\" class=\"dataframe\">\n",
       "  <thead>\n",
       "    <tr style=\"text-align: right;\">\n",
       "      <th></th>\n",
       "      <th>Price</th>\n",
       "      <th>Close</th>\n",
       "      <th>High</th>\n",
       "      <th>Low</th>\n",
       "      <th>Open</th>\n",
       "      <th>Volume</th>\n",
       "    </tr>\n",
       "  </thead>\n",
       "  <tbody>\n",
       "    <tr>\n",
       "      <th>2</th>\n",
       "      <td>2018-01-02</td>\n",
       "      <td>34.1712760925293</td>\n",
       "      <td>34.1962662572868</td>\n",
       "      <td>33.67145055282769</td>\n",
       "      <td>33.74642422489328</td>\n",
       "      <td>4984000</td>\n",
       "    </tr>\n",
       "    <tr>\n",
       "      <th>3</th>\n",
       "      <td>2018-01-03</td>\n",
       "      <td>34.74608612060547</td>\n",
       "      <td>34.82939199967066</td>\n",
       "      <td>34.52116501382098</td>\n",
       "      <td>34.646122243521596</td>\n",
       "      <td>6963200</td>\n",
       "    </tr>\n",
       "    <tr>\n",
       "      <th>4</th>\n",
       "      <td>2018-01-04</td>\n",
       "      <td>34.562808990478516</td>\n",
       "      <td>34.987657721727544</td>\n",
       "      <td>34.52948664902551</td>\n",
       "      <td>34.92101303882153</td>\n",
       "      <td>4876600</td>\n",
       "    </tr>\n",
       "    <tr>\n",
       "      <th>5</th>\n",
       "      <td>2018-01-05</td>\n",
       "      <td>35.3708610534668</td>\n",
       "      <td>35.462495918950445</td>\n",
       "      <td>34.812726040493885</td>\n",
       "      <td>34.896028730318704</td>\n",
       "      <td>5330800</td>\n",
       "    </tr>\n",
       "    <tr>\n",
       "      <th>6</th>\n",
       "      <td>2018-01-08</td>\n",
       "      <td>35.35420227050781</td>\n",
       "      <td>35.38752461980848</td>\n",
       "      <td>35.14594235406982</td>\n",
       "      <td>35.32088309900127</td>\n",
       "      <td>3538200</td>\n",
       "    </tr>\n",
       "  </tbody>\n",
       "</table>\n",
       "</div>"
      ],
      "text/plain": [
       "        Price               Close                High                 Low  \\\n",
       "2  2018-01-02    34.1712760925293    34.1962662572868   33.67145055282769   \n",
       "3  2018-01-03   34.74608612060547   34.82939199967066   34.52116501382098   \n",
       "4  2018-01-04  34.562808990478516  34.987657721727544   34.52948664902551   \n",
       "5  2018-01-05    35.3708610534668  35.462495918950445  34.812726040493885   \n",
       "6  2018-01-08   35.35420227050781   35.38752461980848   35.14594235406982   \n",
       "\n",
       "                 Open   Volume  \n",
       "2   33.74642422489328  4984000  \n",
       "3  34.646122243521596  6963200  \n",
       "4   34.92101303882153  4876600  \n",
       "5  34.896028730318704  5330800  \n",
       "6   35.32088309900127  3538200  "
      ]
     },
     "execution_count": 103,
     "metadata": {},
     "output_type": "execute_result"
    }
   ],
   "source": [
    "# handle missing val\n",
    "df.ffill(inplace=True)\n",
    "df.head(5)"
   ]
  },
  {
   "cell_type": "code",
   "execution_count": 104,
   "id": "9220c4ff",
   "metadata": {},
   "outputs": [],
   "source": [
    "# Use feature to predict target\n",
    "feature = ['High', 'Low', 'Open', 'Volume']\n",
    "target = 'Close'\n",
    "\n",
    "X = df[feature].values\n",
    "y = df[target].values.reshape(-1, 1)"
   ]
  },
  {
   "cell_type": "code",
   "execution_count": 105,
   "id": "070840ca",
   "metadata": {},
   "outputs": [],
   "source": [
    "# Split the data to train, val and test\n",
    "n = len(X)\n",
    "train_size = int(n * 0.7)\n",
    "val_size = int(n * 0.15)\n",
    "\n",
    "# training set\n",
    "X_train = X[:train_size]\n",
    "y_train = y[:train_size]\n",
    "\n",
    "# validation set\n",
    "X_val = X[train_size:train_size + val_size]\n",
    "y_val = y[train_size:train_size + val_size]\n",
    "\n",
    "# test set\n",
    "X_test = X[train_size + val_size:]\n",
    "y_test = y[train_size + val_size:]"
   ]
  },
  {
   "cell_type": "code",
   "execution_count": 106,
   "id": "311263ff",
   "metadata": {},
   "outputs": [],
   "source": [
    "# Normalize\n",
    "# feature\n",
    "feature_scaler = MinMaxScaler()\n",
    "X_train_scaled = feature_scaler.fit_transform(X_train)\n",
    "X_val_scaled = feature_scaler.transform(X_val)\n",
    "X_test_scaled = feature_scaler.transform(X_test)\n",
    "\n",
    "# target\n",
    "target_scaler = MinMaxScaler()\n",
    "y_train_scaled = target_scaler.fit_transform(y_train)\n",
    "y_val_scaled = target_scaler.transform(y_val)\n",
    "y_test_scaled = target_scaler.transform(y_test)"
   ]
  },
  {
   "cell_type": "code",
   "execution_count": 107,
   "id": "70afec47",
   "metadata": {},
   "outputs": [],
   "source": [
    "# Create sequences\n",
    "def create_sequence(X, y, look_back=7, foresight=1):\n",
    "    X_seq, y_seq = [], []\n",
    "    for i in range(len(X) - look_back - foresight):\n",
    "        X_seq.append(X[i:i+look_back])\n",
    "        y_seq.append(y[i+look_back+foresight-1])\n",
    "    return X_seq, y_seq"
   ]
  },
  {
   "cell_type": "code",
   "execution_count": 108,
   "id": "1187dc5a",
   "metadata": {},
   "outputs": [],
   "source": [
    "X_train_seq, y_train_seq = create_sequence(X_train_scaled, y_train_scaled)\n",
    "X_val_seq, y_test_seq = create_sequence(X_val_scaled, y_val_scaled)\n",
    "X_test_seq, y_test_seq = create_sequence(X_test_scaled, y_test_scaled)"
   ]
  },
  {
   "cell_type": "code",
   "execution_count": null,
   "id": "9d3f06c2",
   "metadata": {},
   "outputs": [],
   "source": []
  }
 ],
 "metadata": {
  "kernelspec": {
   "display_name": "venv",
   "language": "python",
   "name": "python3"
  },
  "language_info": {
   "codemirror_mode": {
    "name": "ipython",
    "version": 3
   },
   "file_extension": ".py",
   "mimetype": "text/x-python",
   "name": "python",
   "nbconvert_exporter": "python",
   "pygments_lexer": "ipython3",
   "version": "3.12.10"
  }
 },
 "nbformat": 4,
 "nbformat_minor": 5
}
