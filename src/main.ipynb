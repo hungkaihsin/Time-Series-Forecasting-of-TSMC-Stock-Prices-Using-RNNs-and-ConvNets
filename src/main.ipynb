{
 "cells": [
  {
   "cell_type": "code",
   "execution_count": 68,
   "id": "d8cfe273",
   "metadata": {},
   "outputs": [],
   "source": [
    "import pandas as pd\n",
    "import numpy as np\n",
    "from sklearn.preprocessing import MinMaxScaler\n",
    "from sklearn.metrics import mean_absolute_error\n",
    "from keras.models import Sequential\n",
    "from keras.layers import Dense, Input, LSTM\n",
    "from keras.callbacks import EarlyStopping\n",
    "from keras_tuner import RandomSearch, HyperParameters\n",
    "import tensorflow as tf\n",
    "import plotly.graph_objects as go"
   ]
  },
  {
   "cell_type": "code",
   "execution_count": 69,
   "id": "7a427f4c",
   "metadata": {},
   "outputs": [
    {
     "name": "stdout",
     "output_type": "stream",
     "text": [
      "<class 'pandas.core.frame.DataFrame'>\n",
      "RangeIndex: 1762 entries, 0 to 1761\n",
      "Data columns (total 6 columns):\n",
      " #   Column  Non-Null Count  Dtype \n",
      "---  ------  --------------  ----- \n",
      " 0   Price   1762 non-null   object\n",
      " 1   Close   1761 non-null   object\n",
      " 2   High    1761 non-null   object\n",
      " 3   Low     1761 non-null   object\n",
      " 4   Open    1761 non-null   object\n",
      " 5   Volume  1761 non-null   object\n",
      "dtypes: object(6)\n",
      "memory usage: 82.7+ KB\n"
     ]
    }
   ],
   "source": [
    "df = pd.read_csv('tsmc_data.csv')\n",
    "df.info()"
   ]
  },
  {
   "cell_type": "code",
   "execution_count": 70,
   "id": "afc6ab8d",
   "metadata": {},
   "outputs": [
    {
     "data": {
      "text/plain": [
       "Price     0\n",
       "Close     0\n",
       "High      0\n",
       "Low       0\n",
       "Open      0\n",
       "Volume    0\n",
       "dtype: int64"
      ]
     },
     "execution_count": 70,
     "metadata": {},
     "output_type": "execute_result"
    }
   ],
   "source": [
    "df = df.drop(index=[0, 1])\n",
    "missing_val = df.isnull().sum()\n",
    "missing_val"
   ]
  },
  {
   "cell_type": "code",
   "execution_count": 71,
   "id": "70301d5e",
   "metadata": {},
   "outputs": [
    {
     "data": {
      "text/html": [
       "<div>\n",
       "<style scoped>\n",
       "    .dataframe tbody tr th:only-of-type {\n",
       "        vertical-align: middle;\n",
       "    }\n",
       "\n",
       "    .dataframe tbody tr th {\n",
       "        vertical-align: top;\n",
       "    }\n",
       "\n",
       "    .dataframe thead th {\n",
       "        text-align: right;\n",
       "    }\n",
       "</style>\n",
       "<table border=\"1\" class=\"dataframe\">\n",
       "  <thead>\n",
       "    <tr style=\"text-align: right;\">\n",
       "      <th></th>\n",
       "      <th>Price</th>\n",
       "      <th>Close</th>\n",
       "      <th>High</th>\n",
       "      <th>Low</th>\n",
       "      <th>Open</th>\n",
       "      <th>Volume</th>\n",
       "    </tr>\n",
       "  </thead>\n",
       "  <tbody>\n",
       "    <tr>\n",
       "      <th>2</th>\n",
       "      <td>2018-01-02</td>\n",
       "      <td>34.1712760925293</td>\n",
       "      <td>34.1962662572868</td>\n",
       "      <td>33.67145055282769</td>\n",
       "      <td>33.74642422489328</td>\n",
       "      <td>4984000</td>\n",
       "    </tr>\n",
       "    <tr>\n",
       "      <th>3</th>\n",
       "      <td>2018-01-03</td>\n",
       "      <td>34.74608612060547</td>\n",
       "      <td>34.82939199967066</td>\n",
       "      <td>34.52116501382098</td>\n",
       "      <td>34.646122243521596</td>\n",
       "      <td>6963200</td>\n",
       "    </tr>\n",
       "    <tr>\n",
       "      <th>4</th>\n",
       "      <td>2018-01-04</td>\n",
       "      <td>34.562808990478516</td>\n",
       "      <td>34.987657721727544</td>\n",
       "      <td>34.52948664902551</td>\n",
       "      <td>34.92101303882153</td>\n",
       "      <td>4876600</td>\n",
       "    </tr>\n",
       "    <tr>\n",
       "      <th>5</th>\n",
       "      <td>2018-01-05</td>\n",
       "      <td>35.3708610534668</td>\n",
       "      <td>35.462495918950445</td>\n",
       "      <td>34.812726040493885</td>\n",
       "      <td>34.896028730318704</td>\n",
       "      <td>5330800</td>\n",
       "    </tr>\n",
       "    <tr>\n",
       "      <th>6</th>\n",
       "      <td>2018-01-08</td>\n",
       "      <td>35.35420227050781</td>\n",
       "      <td>35.38752461980848</td>\n",
       "      <td>35.14594235406982</td>\n",
       "      <td>35.32088309900127</td>\n",
       "      <td>3538200</td>\n",
       "    </tr>\n",
       "  </tbody>\n",
       "</table>\n",
       "</div>"
      ],
      "text/plain": [
       "        Price               Close                High                 Low  \\\n",
       "2  2018-01-02    34.1712760925293    34.1962662572868   33.67145055282769   \n",
       "3  2018-01-03   34.74608612060547   34.82939199967066   34.52116501382098   \n",
       "4  2018-01-04  34.562808990478516  34.987657721727544   34.52948664902551   \n",
       "5  2018-01-05    35.3708610534668  35.462495918950445  34.812726040493885   \n",
       "6  2018-01-08   35.35420227050781   35.38752461980848   35.14594235406982   \n",
       "\n",
       "                 Open   Volume  \n",
       "2   33.74642422489328  4984000  \n",
       "3  34.646122243521596  6963200  \n",
       "4   34.92101303882153  4876600  \n",
       "5  34.896028730318704  5330800  \n",
       "6   35.32088309900127  3538200  "
      ]
     },
     "execution_count": 71,
     "metadata": {},
     "output_type": "execute_result"
    }
   ],
   "source": [
    "# handle missing val\n",
    "df.ffill(inplace=True)\n",
    "df.head(5)"
   ]
  },
  {
   "cell_type": "code",
   "execution_count": 72,
   "id": "9220c4ff",
   "metadata": {},
   "outputs": [],
   "source": [
    "# Use feature to predict target\n",
    "feature = ['High', 'Low', 'Open', 'Volume']\n",
    "target = 'Close'\n",
    "\n",
    "X = df[feature].values\n",
    "y = df[target].values.reshape(-1, 1)"
   ]
  },
  {
   "cell_type": "code",
   "execution_count": 73,
   "id": "070840ca",
   "metadata": {},
   "outputs": [],
   "source": [
    "# Split the data to train, val and test\n",
    "n = len(X)\n",
    "train_size = int(n * 0.7)\n",
    "val_size = int(n * 0.15)\n",
    "\n",
    "# training set\n",
    "X_train = X[:train_size]\n",
    "y_train = y[:train_size]\n",
    "\n",
    "# validation set\n",
    "X_val = X[train_size:train_size + val_size]\n",
    "y_val = y[train_size:train_size + val_size]\n",
    "\n",
    "# test set\n",
    "X_test = X[train_size + val_size:]\n",
    "y_test = y[train_size + val_size:]"
   ]
  },
  {
   "cell_type": "code",
   "execution_count": 74,
   "id": "311263ff",
   "metadata": {},
   "outputs": [],
   "source": [
    "# Normalize\n",
    "# feature\n",
    "feature_scaler = MinMaxScaler()\n",
    "feature_scaler.fit(X_train)\n",
    "X_train_scaled = feature_scaler.transform(X_train)\n",
    "X_val_scaled = feature_scaler.transform(X_val)\n",
    "X_test_scaled = feature_scaler.transform(X_test)\n",
    "\n",
    "# target\n",
    "target_scaler = MinMaxScaler()\n",
    "target_scaler.fit(y_train)\n",
    "y_train_scaled = target_scaler.transform(y_train)\n",
    "y_val_scaled = target_scaler.transform(y_val)\n",
    "y_test_scaled = target_scaler.transform(y_test)"
   ]
  },
  {
   "cell_type": "code",
   "execution_count": 75,
   "id": "70afec47",
   "metadata": {},
   "outputs": [],
   "source": [
    "# Create sequences\n",
    "def create_sequence(X, y, look_back=7, foresight=1):\n",
    "    X_seq, y_seq = [], []\n",
    "    for i in range(len(X) - look_back - foresight):\n",
    "        X_seq.append(X[i:i+look_back])\n",
    "        y_seq.append(y[i+look_back+foresight-1])\n",
    "    return X_seq, y_seq"
   ]
  },
  {
   "cell_type": "code",
   "execution_count": 76,
   "id": "1187dc5a",
   "metadata": {},
   "outputs": [],
   "source": [
    "X_train_seq, y_train_seq = create_sequence(X_train_scaled, y_train_scaled)\n",
    "X_val_seq, y_val_seq = create_sequence(X_val_scaled, y_val_scaled)\n",
    "X_test_seq, y_test_seq = create_sequence(X_test_scaled, y_test_scaled)\n",
    "\n",
    "X_train_seq = np.array(X_train_seq)\n",
    "y_train_seq = np.array(y_train_seq)\n",
    "\n",
    "X_val_seq = np.array(X_val_seq)\n",
    "y_val_seq = np.array(y_val_seq)\n",
    "\n",
    "X_test_seq = np.array(X_test_seq)\n",
    "y_test_seq = np.array(y_test_seq)"
   ]
  },
  {
   "cell_type": "code",
   "execution_count": 77,
   "id": "87864ff1",
   "metadata": {},
   "outputs": [
    {
     "name": "stdout",
     "output_type": "stream",
     "text": [
      "Reloading Tuner from tuning\\lstm_stock_forecast\\tuner0.json\n"
     ]
    }
   ],
   "source": [
    "# LSTM model with hyper parameter tuning \n",
    "\n",
    "def LSTM_tunning(hp):\n",
    "    model = Sequential()\n",
    "    model.add(Input(shape=(7, 4)))\n",
    "    # LSTM\n",
    "    model.add(LSTM(units=hp.Int('lstm_unit', min_value=32, max_value=128, step=32), return_sequences=False))\n",
    "    # Dense\n",
    "    model.add(Dense(units=hp.Int('dense_unit', min_value=16, max_value=64, step=16), activation='relu'))\n",
    "\n",
    "    # Output\n",
    "    model.add(Dense(1, activation='linear'))\n",
    "\n",
    "    optimizer = hp.Choice('optimizer', ['adam', 'rmsprop'])\n",
    "    learning_rate = hp.Choice('lr', [1e-2, 1e-3, 5e-4])\n",
    "    \n",
    "    if optimizer == 'adam':\n",
    "        opt = tf.keras.optimizers.Adam(learning_rate=learning_rate)\n",
    "    else:\n",
    "        opt = tf.keras.optimizers.RMSprop(learning_rate=learning_rate)\n",
    "    model.compile(optimizer=opt, loss='mae', metrics=['mae'])\n",
    "    return model\n",
    "\n",
    "lstm_tuner = RandomSearch(\n",
    "    hypermodel=LSTM_tunning,\n",
    "    objective='val_mae',\n",
    "    max_trials=30,\n",
    "    executions_per_trial=2,\n",
    "    directory='tuning',\n",
    "    project_name='lstm_stock_forecast'\n",
    ")\n",
    "\n",
    "early_stop = EarlyStopping(patience=10, restore_best_weights=True)\n",
    "\n",
    "lstm_tuner.search(X_train_seq, y_train_seq, epochs=100, validation_data=(X_val_seq, y_val_seq), batch_size = 32, callbacks = [early_stop])"
   ]
  },
  {
   "cell_type": "code",
   "execution_count": 78,
   "id": "904820e3",
   "metadata": {},
   "outputs": [
    {
     "name": "stdout",
     "output_type": "stream",
     "text": [
      "Best Hyper tuning for LSTM:\n",
      "LSTM units: 64\n",
      "Dense units: 32\n",
      "Optimizer: adam\n",
      "Learning rate: 0.01\n"
     ]
    }
   ],
   "source": [
    "best_lsmt_parameter = lstm_tuner.get_best_hyperparameters(num_trials=1)[0]\n",
    "\n",
    "print('Best Hyper tuning for LSTM:')\n",
    "print(f\"LSTM units: {best_lsmt_parameter.get('lstm_unit')}\")\n",
    "print(f\"Dense units: {best_lsmt_parameter.get('dense_unit')}\")\n",
    "print(f\"Optimizer: {best_lsmt_parameter.get('optimizer')}\")\n",
    "print(f\"Learning rate: {best_lsmt_parameter.get('lr')}\")"
   ]
  },
  {
   "cell_type": "code",
   "execution_count": 102,
   "id": "14b61816",
   "metadata": {},
   "outputs": [
    {
     "name": "stdout",
     "output_type": "stream",
     "text": [
      "\u001b[1m8/8\u001b[0m \u001b[32m━━━━━━━━━━━━━━━━━━━━\u001b[0m\u001b[37m\u001b[0m \u001b[1m0s\u001b[0m 2ms/step \n",
      "Validation MAE in dollars: $1.40\n"
     ]
    },
    {
     "name": "stderr",
     "output_type": "stream",
     "text": [
      "c:\\Users\\danie\\Desktop\\Project\\Time-Series-Forecasting-of-TSMC-Stock-Prices-Using-RNNs-and-ConvNets\\venv\\lib\\site-packages\\keras\\src\\saving\\saving_lib.py:802: UserWarning:\n",
      "\n",
      "Skipping variable loading for optimizer 'adam', because it has 2 variables whereas the saved optimizer has 16 variables. \n",
      "\n"
     ]
    }
   ],
   "source": [
    "# check the result if it's acceptable\n",
    "best_lstm_model = lstm_tuner.get_best_models(num_models=1)[0]\n",
    "y_val_pred_scaled = best_lstm_model.predict(X_val_seq)\n",
    "\n",
    "y_val_pred = target_scaler.inverse_transform(y_val_pred_scaled)\n",
    "y_val_true = target_scaler.inverse_transform(y_val_seq)\n",
    "\n",
    "mae_val_dollar = mean_absolute_error(y_val_true, y_val_pred)\n",
    "print(f\"Validation MAE in dollars: ${mae_val_dollar:.2f}\")\n",
    "\n"
   ]
  },
  {
   "cell_type": "code",
   "execution_count": 111,
   "id": "e49de07a",
   "metadata": {},
   "outputs": [
    {
     "name": "stdout",
     "output_type": "stream",
     "text": [
      "Validation Error in Percentage: 0.726%\n"
     ]
    }
   ],
   "source": [
    "# For calculate the error in percentage\n",
    "Min = float(df['Close'].tail(60).min())\n",
    "Max = float(df['Close'].tail(60).max())\n",
    "Average_price = (Min + Max) / 2\n",
    "mae_val_percentage = (mae_val_dollar / Average_price) * 100\n",
    "\n",
    "print(f\"Validation Error in Percentage: {mae_val_percentage:.3f}%\")\n"
   ]
  },
  {
   "cell_type": "code",
   "execution_count": 112,
   "id": "c1c3340a",
   "metadata": {},
   "outputs": [],
   "source": [
    "y_val_true = y_val_true.flatten()\n",
    "y_val_pred = y_val_pred.flatten()"
   ]
  },
  {
   "cell_type": "code",
   "execution_count": 113,
   "id": "2a415967",
   "metadata": {},
   "outputs": [],
   "source": [
    "val_start_index = train_size + 7\n",
    "val_dates = df['Price'].iloc[val_start_index:val_start_index+ len(y_val_true)]"
   ]
  },
  {
   "cell_type": "code",
   "execution_count": 114,
   "id": "90f56da5",
   "metadata": {},
   "outputs": [
    {
     "data": {
      "application/vnd.plotly.v1+json": {
       "config": {
        "plotlyServerURL": "https://plot.ly"
       },
       "data": [
        {
         "mode": "lines",
         "name": "True",
         "type": "scatter",
         "x": [
          "2022-12-02",
          "2022-12-05",
          "2022-12-06",
          "2022-12-07",
          "2022-12-08",
          "2022-12-09",
          "2022-12-12",
          "2022-12-13",
          "2022-12-14",
          "2022-12-15",
          "2022-12-16",
          "2022-12-19",
          "2022-12-20",
          "2022-12-21",
          "2022-12-22",
          "2022-12-23",
          "2022-12-27",
          "2022-12-28",
          "2022-12-29",
          "2022-12-30",
          "2023-01-03",
          "2023-01-04",
          "2023-01-05",
          "2023-01-06",
          "2023-01-09",
          "2023-01-10",
          "2023-01-11",
          "2023-01-12",
          "2023-01-13",
          "2023-01-17",
          "2023-01-18",
          "2023-01-19",
          "2023-01-20",
          "2023-01-23",
          "2023-01-24",
          "2023-01-25",
          "2023-01-26",
          "2023-01-27",
          "2023-01-30",
          "2023-01-31",
          "2023-02-01",
          "2023-02-02",
          "2023-02-03",
          "2023-02-06",
          "2023-02-07",
          "2023-02-08",
          "2023-02-09",
          "2023-02-10",
          "2023-02-13",
          "2023-02-14",
          "2023-02-15",
          "2023-02-16",
          "2023-02-17",
          "2023-02-21",
          "2023-02-22",
          "2023-02-23",
          "2023-02-24",
          "2023-02-27",
          "2023-02-28",
          "2023-03-01",
          "2023-03-02",
          "2023-03-03",
          "2023-03-06",
          "2023-03-07",
          "2023-03-08",
          "2023-03-09",
          "2023-03-10",
          "2023-03-13",
          "2023-03-14",
          "2023-03-15",
          "2023-03-16",
          "2023-03-17",
          "2023-03-20",
          "2023-03-21",
          "2023-03-22",
          "2023-03-23",
          "2023-03-24",
          "2023-03-27",
          "2023-03-28",
          "2023-03-29",
          "2023-03-30",
          "2023-03-31",
          "2023-04-03",
          "2023-04-04",
          "2023-04-05",
          "2023-04-06",
          "2023-04-10",
          "2023-04-11",
          "2023-04-12",
          "2023-04-13",
          "2023-04-14",
          "2023-04-17",
          "2023-04-18",
          "2023-04-19",
          "2023-04-20",
          "2023-04-21",
          "2023-04-24",
          "2023-04-25",
          "2023-04-26",
          "2023-04-27",
          "2023-04-28",
          "2023-05-01",
          "2023-05-02",
          "2023-05-03",
          "2023-05-04",
          "2023-05-05",
          "2023-05-08",
          "2023-05-09",
          "2023-05-10",
          "2023-05-11",
          "2023-05-12",
          "2023-05-15",
          "2023-05-16",
          "2023-05-17",
          "2023-05-18",
          "2023-05-19",
          "2023-05-22",
          "2023-05-23",
          "2023-05-24",
          "2023-05-25",
          "2023-05-26",
          "2023-05-30",
          "2023-05-31",
          "2023-06-01",
          "2023-06-02",
          "2023-06-05",
          "2023-06-06",
          "2023-06-07",
          "2023-06-08",
          "2023-06-09",
          "2023-06-12",
          "2023-06-13",
          "2023-06-14",
          "2023-06-15",
          "2023-06-16",
          "2023-06-20",
          "2023-06-21",
          "2023-06-22",
          "2023-06-23",
          "2023-06-26",
          "2023-06-27",
          "2023-06-28",
          "2023-06-29",
          "2023-06-30",
          "2023-07-03",
          "2023-07-05",
          "2023-07-06",
          "2023-07-07",
          "2023-07-10",
          "2023-07-11",
          "2023-07-12",
          "2023-07-13",
          "2023-07-14",
          "2023-07-17",
          "2023-07-18",
          "2023-07-19",
          "2023-07-20",
          "2023-07-21",
          "2023-07-24",
          "2023-07-25",
          "2023-07-26",
          "2023-07-27",
          "2023-07-28",
          "2023-07-31",
          "2023-08-01",
          "2023-08-02",
          "2023-08-03",
          "2023-08-04",
          "2023-08-07",
          "2023-08-08",
          "2023-08-09",
          "2023-08-10",
          "2023-08-11",
          "2023-08-14",
          "2023-08-15",
          "2023-08-16",
          "2023-08-17",
          "2023-08-18",
          "2023-08-21",
          "2023-08-22",
          "2023-08-23",
          "2023-08-24",
          "2023-08-25",
          "2023-08-28",
          "2023-08-29",
          "2023-08-30",
          "2023-08-31",
          "2023-09-01",
          "2023-09-05",
          "2023-09-06",
          "2023-09-07",
          "2023-09-08",
          "2023-09-11",
          "2023-09-12",
          "2023-09-13",
          "2023-09-14",
          "2023-09-15",
          "2023-09-18",
          "2023-09-19",
          "2023-09-20",
          "2023-09-21",
          "2023-09-22",
          "2023-09-25",
          "2023-09-26",
          "2023-09-27",
          "2023-09-28",
          "2023-09-29",
          "2023-10-02",
          "2023-10-03",
          "2023-10-04",
          "2023-10-05",
          "2023-10-06",
          "2023-10-09",
          "2023-10-10",
          "2023-10-11",
          "2023-10-12",
          "2023-10-13",
          "2023-10-16",
          "2023-10-17",
          "2023-10-18",
          "2023-10-19",
          "2023-10-20",
          "2023-10-23",
          "2023-10-24",
          "2023-10-25",
          "2023-10-26",
          "2023-10-27",
          "2023-10-30",
          "2023-10-31",
          "2023-11-01",
          "2023-11-02",
          "2023-11-03",
          "2023-11-06",
          "2023-11-07",
          "2023-11-08",
          "2023-11-09",
          "2023-11-10",
          "2023-11-13",
          "2023-11-14",
          "2023-11-15",
          "2023-11-16",
          "2023-11-17",
          "2023-11-20",
          "2023-11-21",
          "2023-11-22",
          "2023-11-24",
          "2023-11-27",
          "2023-11-28",
          "2023-11-29",
          "2023-11-30",
          "2023-12-01",
          "2023-12-04",
          "2023-12-05",
          "2023-12-06",
          "2023-12-07",
          "2023-12-08"
         ],
         "y": {
          "bdata": "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",
          "dtype": "f8"
         }
        },
        {
         "mode": "lines",
         "name": "Prediction",
         "type": "scatter",
         "x": [
          "2022-12-02",
          "2022-12-05",
          "2022-12-06",
          "2022-12-07",
          "2022-12-08",
          "2022-12-09",
          "2022-12-12",
          "2022-12-13",
          "2022-12-14",
          "2022-12-15",
          "2022-12-16",
          "2022-12-19",
          "2022-12-20",
          "2022-12-21",
          "2022-12-22",
          "2022-12-23",
          "2022-12-27",
          "2022-12-28",
          "2022-12-29",
          "2022-12-30",
          "2023-01-03",
          "2023-01-04",
          "2023-01-05",
          "2023-01-06",
          "2023-01-09",
          "2023-01-10",
          "2023-01-11",
          "2023-01-12",
          "2023-01-13",
          "2023-01-17",
          "2023-01-18",
          "2023-01-19",
          "2023-01-20",
          "2023-01-23",
          "2023-01-24",
          "2023-01-25",
          "2023-01-26",
          "2023-01-27",
          "2023-01-30",
          "2023-01-31",
          "2023-02-01",
          "2023-02-02",
          "2023-02-03",
          "2023-02-06",
          "2023-02-07",
          "2023-02-08",
          "2023-02-09",
          "2023-02-10",
          "2023-02-13",
          "2023-02-14",
          "2023-02-15",
          "2023-02-16",
          "2023-02-17",
          "2023-02-21",
          "2023-02-22",
          "2023-02-23",
          "2023-02-24",
          "2023-02-27",
          "2023-02-28",
          "2023-03-01",
          "2023-03-02",
          "2023-03-03",
          "2023-03-06",
          "2023-03-07",
          "2023-03-08",
          "2023-03-09",
          "2023-03-10",
          "2023-03-13",
          "2023-03-14",
          "2023-03-15",
          "2023-03-16",
          "2023-03-17",
          "2023-03-20",
          "2023-03-21",
          "2023-03-22",
          "2023-03-23",
          "2023-03-24",
          "2023-03-27",
          "2023-03-28",
          "2023-03-29",
          "2023-03-30",
          "2023-03-31",
          "2023-04-03",
          "2023-04-04",
          "2023-04-05",
          "2023-04-06",
          "2023-04-10",
          "2023-04-11",
          "2023-04-12",
          "2023-04-13",
          "2023-04-14",
          "2023-04-17",
          "2023-04-18",
          "2023-04-19",
          "2023-04-20",
          "2023-04-21",
          "2023-04-24",
          "2023-04-25",
          "2023-04-26",
          "2023-04-27",
          "2023-04-28",
          "2023-05-01",
          "2023-05-02",
          "2023-05-03",
          "2023-05-04",
          "2023-05-05",
          "2023-05-08",
          "2023-05-09",
          "2023-05-10",
          "2023-05-11",
          "2023-05-12",
          "2023-05-15",
          "2023-05-16",
          "2023-05-17",
          "2023-05-18",
          "2023-05-19",
          "2023-05-22",
          "2023-05-23",
          "2023-05-24",
          "2023-05-25",
          "2023-05-26",
          "2023-05-30",
          "2023-05-31",
          "2023-06-01",
          "2023-06-02",
          "2023-06-05",
          "2023-06-06",
          "2023-06-07",
          "2023-06-08",
          "2023-06-09",
          "2023-06-12",
          "2023-06-13",
          "2023-06-14",
          "2023-06-15",
          "2023-06-16",
          "2023-06-20",
          "2023-06-21",
          "2023-06-22",
          "2023-06-23",
          "2023-06-26",
          "2023-06-27",
          "2023-06-28",
          "2023-06-29",
          "2023-06-30",
          "2023-07-03",
          "2023-07-05",
          "2023-07-06",
          "2023-07-07",
          "2023-07-10",
          "2023-07-11",
          "2023-07-12",
          "2023-07-13",
          "2023-07-14",
          "2023-07-17",
          "2023-07-18",
          "2023-07-19",
          "2023-07-20",
          "2023-07-21",
          "2023-07-24",
          "2023-07-25",
          "2023-07-26",
          "2023-07-27",
          "2023-07-28",
          "2023-07-31",
          "2023-08-01",
          "2023-08-02",
          "2023-08-03",
          "2023-08-04",
          "2023-08-07",
          "2023-08-08",
          "2023-08-09",
          "2023-08-10",
          "2023-08-11",
          "2023-08-14",
          "2023-08-15",
          "2023-08-16",
          "2023-08-17",
          "2023-08-18",
          "2023-08-21",
          "2023-08-22",
          "2023-08-23",
          "2023-08-24",
          "2023-08-25",
          "2023-08-28",
          "2023-08-29",
          "2023-08-30",
          "2023-08-31",
          "2023-09-01",
          "2023-09-05",
          "2023-09-06",
          "2023-09-07",
          "2023-09-08",
          "2023-09-11",
          "2023-09-12",
          "2023-09-13",
          "2023-09-14",
          "2023-09-15",
          "2023-09-18",
          "2023-09-19",
          "2023-09-20",
          "2023-09-21",
          "2023-09-22",
          "2023-09-25",
          "2023-09-26",
          "2023-09-27",
          "2023-09-28",
          "2023-09-29",
          "2023-10-02",
          "2023-10-03",
          "2023-10-04",
          "2023-10-05",
          "2023-10-06",
          "2023-10-09",
          "2023-10-10",
          "2023-10-11",
          "2023-10-12",
          "2023-10-13",
          "2023-10-16",
          "2023-10-17",
          "2023-10-18",
          "2023-10-19",
          "2023-10-20",
          "2023-10-23",
          "2023-10-24",
          "2023-10-25",
          "2023-10-26",
          "2023-10-27",
          "2023-10-30",
          "2023-10-31",
          "2023-11-01",
          "2023-11-02",
          "2023-11-03",
          "2023-11-06",
          "2023-11-07",
          "2023-11-08",
          "2023-11-09",
          "2023-11-10",
          "2023-11-13",
          "2023-11-14",
          "2023-11-15",
          "2023-11-16",
          "2023-11-17",
          "2023-11-20",
          "2023-11-21",
          "2023-11-22",
          "2023-11-24",
          "2023-11-27",
          "2023-11-28",
          "2023-11-29",
          "2023-11-30",
          "2023-12-01",
          "2023-12-04",
          "2023-12-05",
          "2023-12-06",
          "2023-12-07",
          "2023-12-08"
         ],
         "y": {
          "bdata": "RuGeQlUBnUL0Hp1CrBSbQnJ3mELPxZlCi9WcQjw5mULljZxCl2WbQogbmELDfpVCS3+UQgVbkkJDLJRCEG2SQinRkEKzZpBC/DOPQjRjkUJTt49C66WRQhFkkkJHJJNCUsKVQqfpnEImMpxCcDedQgIRqELTT6VCV/SoQmVfrkJgaqtCmK+tQldPtEL0NbZCSHOxQmqftEJ0Y7NCFOmzQgi/r0KvebVCbY26Qn51t0JUza9CGjuzQoCDt0I577pC62K3QnzWt0ItsLpCaTCyQpC/rkJAGa1CNA+rQoPxqEL4ta9CVhSpQnBtqkIXuahClT+sQqcGqkJZi6tC3nKuQtlirEK0AaxCgRGtQr0jqkKZj6hCFwmrQlQop0L3cqlC6dutQgEwrUJQ/LFCX561Qr3stkJ0JLRCeCmxQo9Mr0JLKLNC/WG0Ql4NskJ1m7NCN3KzQrj8r0JTda5CrM+qQq8lrUIsnatCwj+oQswjqkKLXapCIv6qQrguqEJTb65CLR+oQiD4pEK6X6FCcmafQqacoULh9qNCCb2jQtTboUIjKaFC7ZuhQllnpEIB5KRC0wqlQhVVpEIsO6JCmwCiQtLFo0LJiqdC0aWuQtYmskJ5CbJC8KixQvG7r0IclK1C+83DQlaHxEI6W8dCnoy+QkeKv0LlscFCEqy6Qs13v0LUR8RCe8S/QpdGyELJCMxCHSLSQkoAzELe+8xCSoPLQutcyUJhPMdCQCrGQoItxUIEScVCYbfEQtTBw0If0cNCntHEQmQmx0JjgsVCguW/QhRfwkKtZ8JCFCjFQqEKyULU9clC/47NQkwTyUIArsdCK2jJQmS1v0K6+7xCN4u9QtKawkKt8cBCJ0HDQoSLwkJzRsBCQqO/Qpe+u0KC7rhCqgW7Qvwpu0KRmLdCp+G4QmRbuUJK0LRC2i+zQreNs0KdCbNCl9qzQjrcr0IYAbJCbL20QmZct0Lk3bhCvE+zQt86tkLNz7dCaka5QuEptkLxl7ZC6F+2QkTytEJ8iK5CRMyvQvVXr0KUWbFCVzCxQuWjtEIO3bBCWV2tQrr/rELtFq1CMlioQorlqEJI5KdC6yWmQoKTpkKIWahCOo2rQrd6q0IKAqlCE0SoQsrGqkKxqa1CZm6tQijFr0Lgu7JCJim1QiVAs0KS6bFCgdmvQg61rkIKMrhCqlm0QmRgsELCtrJCjZ+uQnPQqkKU16pCRQGrQrA8qEIEsapC6FixQsNcs0LEqrNCMU60QixitUJ527RCOgC7QoxNvELp6cBC1RbCQquVv0K5+sBCKibDQu3swULpg8BCFWy/QgauvUJ5KL9CftjBQnWfv0Kr4r5C5Fe8Qsp2vEJk4r9CYI3AQg==",
          "dtype": "f4"
         }
        }
       ],
       "layout": {
        "template": {
         "data": {
          "bar": [
           {
            "error_x": {
             "color": "#2a3f5f"
            },
            "error_y": {
             "color": "#2a3f5f"
            },
            "marker": {
             "line": {
              "color": "#E5ECF6",
              "width": 0.5
             },
             "pattern": {
              "fillmode": "overlay",
              "size": 10,
              "solidity": 0.2
             }
            },
            "type": "bar"
           }
          ],
          "barpolar": [
           {
            "marker": {
             "line": {
              "color": "#E5ECF6",
              "width": 0.5
             },
             "pattern": {
              "fillmode": "overlay",
              "size": 10,
              "solidity": 0.2
             }
            },
            "type": "barpolar"
           }
          ],
          "carpet": [
           {
            "aaxis": {
             "endlinecolor": "#2a3f5f",
             "gridcolor": "white",
             "linecolor": "white",
             "minorgridcolor": "white",
             "startlinecolor": "#2a3f5f"
            },
            "baxis": {
             "endlinecolor": "#2a3f5f",
             "gridcolor": "white",
             "linecolor": "white",
             "minorgridcolor": "white",
             "startlinecolor": "#2a3f5f"
            },
            "type": "carpet"
           }
          ],
          "choropleth": [
           {
            "colorbar": {
             "outlinewidth": 0,
             "ticks": ""
            },
            "type": "choropleth"
           }
          ],
          "contour": [
           {
            "colorbar": {
             "outlinewidth": 0,
             "ticks": ""
            },
            "colorscale": [
             [
              0,
              "#0d0887"
             ],
             [
              0.1111111111111111,
              "#46039f"
             ],
             [
              0.2222222222222222,
              "#7201a8"
             ],
             [
              0.3333333333333333,
              "#9c179e"
             ],
             [
              0.4444444444444444,
              "#bd3786"
             ],
             [
              0.5555555555555556,
              "#d8576b"
             ],
             [
              0.6666666666666666,
              "#ed7953"
             ],
             [
              0.7777777777777778,
              "#fb9f3a"
             ],
             [
              0.8888888888888888,
              "#fdca26"
             ],
             [
              1,
              "#f0f921"
             ]
            ],
            "type": "contour"
           }
          ],
          "contourcarpet": [
           {
            "colorbar": {
             "outlinewidth": 0,
             "ticks": ""
            },
            "type": "contourcarpet"
           }
          ],
          "heatmap": [
           {
            "colorbar": {
             "outlinewidth": 0,
             "ticks": ""
            },
            "colorscale": [
             [
              0,
              "#0d0887"
             ],
             [
              0.1111111111111111,
              "#46039f"
             ],
             [
              0.2222222222222222,
              "#7201a8"
             ],
             [
              0.3333333333333333,
              "#9c179e"
             ],
             [
              0.4444444444444444,
              "#bd3786"
             ],
             [
              0.5555555555555556,
              "#d8576b"
             ],
             [
              0.6666666666666666,
              "#ed7953"
             ],
             [
              0.7777777777777778,
              "#fb9f3a"
             ],
             [
              0.8888888888888888,
              "#fdca26"
             ],
             [
              1,
              "#f0f921"
             ]
            ],
            "type": "heatmap"
           }
          ],
          "histogram": [
           {
            "marker": {
             "pattern": {
              "fillmode": "overlay",
              "size": 10,
              "solidity": 0.2
             }
            },
            "type": "histogram"
           }
          ],
          "histogram2d": [
           {
            "colorbar": {
             "outlinewidth": 0,
             "ticks": ""
            },
            "colorscale": [
             [
              0,
              "#0d0887"
             ],
             [
              0.1111111111111111,
              "#46039f"
             ],
             [
              0.2222222222222222,
              "#7201a8"
             ],
             [
              0.3333333333333333,
              "#9c179e"
             ],
             [
              0.4444444444444444,
              "#bd3786"
             ],
             [
              0.5555555555555556,
              "#d8576b"
             ],
             [
              0.6666666666666666,
              "#ed7953"
             ],
             [
              0.7777777777777778,
              "#fb9f3a"
             ],
             [
              0.8888888888888888,
              "#fdca26"
             ],
             [
              1,
              "#f0f921"
             ]
            ],
            "type": "histogram2d"
           }
          ],
          "histogram2dcontour": [
           {
            "colorbar": {
             "outlinewidth": 0,
             "ticks": ""
            },
            "colorscale": [
             [
              0,
              "#0d0887"
             ],
             [
              0.1111111111111111,
              "#46039f"
             ],
             [
              0.2222222222222222,
              "#7201a8"
             ],
             [
              0.3333333333333333,
              "#9c179e"
             ],
             [
              0.4444444444444444,
              "#bd3786"
             ],
             [
              0.5555555555555556,
              "#d8576b"
             ],
             [
              0.6666666666666666,
              "#ed7953"
             ],
             [
              0.7777777777777778,
              "#fb9f3a"
             ],
             [
              0.8888888888888888,
              "#fdca26"
             ],
             [
              1,
              "#f0f921"
             ]
            ],
            "type": "histogram2dcontour"
           }
          ],
          "mesh3d": [
           {
            "colorbar": {
             "outlinewidth": 0,
             "ticks": ""
            },
            "type": "mesh3d"
           }
          ],
          "parcoords": [
           {
            "line": {
             "colorbar": {
              "outlinewidth": 0,
              "ticks": ""
             }
            },
            "type": "parcoords"
           }
          ],
          "pie": [
           {
            "automargin": true,
            "type": "pie"
           }
          ],
          "scatter": [
           {
            "fillpattern": {
             "fillmode": "overlay",
             "size": 10,
             "solidity": 0.2
            },
            "type": "scatter"
           }
          ],
          "scatter3d": [
           {
            "line": {
             "colorbar": {
              "outlinewidth": 0,
              "ticks": ""
             }
            },
            "marker": {
             "colorbar": {
              "outlinewidth": 0,
              "ticks": ""
             }
            },
            "type": "scatter3d"
           }
          ],
          "scattercarpet": [
           {
            "marker": {
             "colorbar": {
              "outlinewidth": 0,
              "ticks": ""
             }
            },
            "type": "scattercarpet"
           }
          ],
          "scattergeo": [
           {
            "marker": {
             "colorbar": {
              "outlinewidth": 0,
              "ticks": ""
             }
            },
            "type": "scattergeo"
           }
          ],
          "scattergl": [
           {
            "marker": {
             "colorbar": {
              "outlinewidth": 0,
              "ticks": ""
             }
            },
            "type": "scattergl"
           }
          ],
          "scattermap": [
           {
            "marker": {
             "colorbar": {
              "outlinewidth": 0,
              "ticks": ""
             }
            },
            "type": "scattermap"
           }
          ],
          "scattermapbox": [
           {
            "marker": {
             "colorbar": {
              "outlinewidth": 0,
              "ticks": ""
             }
            },
            "type": "scattermapbox"
           }
          ],
          "scatterpolar": [
           {
            "marker": {
             "colorbar": {
              "outlinewidth": 0,
              "ticks": ""
             }
            },
            "type": "scatterpolar"
           }
          ],
          "scatterpolargl": [
           {
            "marker": {
             "colorbar": {
              "outlinewidth": 0,
              "ticks": ""
             }
            },
            "type": "scatterpolargl"
           }
          ],
          "scatterternary": [
           {
            "marker": {
             "colorbar": {
              "outlinewidth": 0,
              "ticks": ""
             }
            },
            "type": "scatterternary"
           }
          ],
          "surface": [
           {
            "colorbar": {
             "outlinewidth": 0,
             "ticks": ""
            },
            "colorscale": [
             [
              0,
              "#0d0887"
             ],
             [
              0.1111111111111111,
              "#46039f"
             ],
             [
              0.2222222222222222,
              "#7201a8"
             ],
             [
              0.3333333333333333,
              "#9c179e"
             ],
             [
              0.4444444444444444,
              "#bd3786"
             ],
             [
              0.5555555555555556,
              "#d8576b"
             ],
             [
              0.6666666666666666,
              "#ed7953"
             ],
             [
              0.7777777777777778,
              "#fb9f3a"
             ],
             [
              0.8888888888888888,
              "#fdca26"
             ],
             [
              1,
              "#f0f921"
             ]
            ],
            "type": "surface"
           }
          ],
          "table": [
           {
            "cells": {
             "fill": {
              "color": "#EBF0F8"
             },
             "line": {
              "color": "white"
             }
            },
            "header": {
             "fill": {
              "color": "#C8D4E3"
             },
             "line": {
              "color": "white"
             }
            },
            "type": "table"
           }
          ]
         },
         "layout": {
          "annotationdefaults": {
           "arrowcolor": "#2a3f5f",
           "arrowhead": 0,
           "arrowwidth": 1
          },
          "autotypenumbers": "strict",
          "coloraxis": {
           "colorbar": {
            "outlinewidth": 0,
            "ticks": ""
           }
          },
          "colorscale": {
           "diverging": [
            [
             0,
             "#8e0152"
            ],
            [
             0.1,
             "#c51b7d"
            ],
            [
             0.2,
             "#de77ae"
            ],
            [
             0.3,
             "#f1b6da"
            ],
            [
             0.4,
             "#fde0ef"
            ],
            [
             0.5,
             "#f7f7f7"
            ],
            [
             0.6,
             "#e6f5d0"
            ],
            [
             0.7,
             "#b8e186"
            ],
            [
             0.8,
             "#7fbc41"
            ],
            [
             0.9,
             "#4d9221"
            ],
            [
             1,
             "#276419"
            ]
           ],
           "sequential": [
            [
             0,
             "#0d0887"
            ],
            [
             0.1111111111111111,
             "#46039f"
            ],
            [
             0.2222222222222222,
             "#7201a8"
            ],
            [
             0.3333333333333333,
             "#9c179e"
            ],
            [
             0.4444444444444444,
             "#bd3786"
            ],
            [
             0.5555555555555556,
             "#d8576b"
            ],
            [
             0.6666666666666666,
             "#ed7953"
            ],
            [
             0.7777777777777778,
             "#fb9f3a"
            ],
            [
             0.8888888888888888,
             "#fdca26"
            ],
            [
             1,
             "#f0f921"
            ]
           ],
           "sequentialminus": [
            [
             0,
             "#0d0887"
            ],
            [
             0.1111111111111111,
             "#46039f"
            ],
            [
             0.2222222222222222,
             "#7201a8"
            ],
            [
             0.3333333333333333,
             "#9c179e"
            ],
            [
             0.4444444444444444,
             "#bd3786"
            ],
            [
             0.5555555555555556,
             "#d8576b"
            ],
            [
             0.6666666666666666,
             "#ed7953"
            ],
            [
             0.7777777777777778,
             "#fb9f3a"
            ],
            [
             0.8888888888888888,
             "#fdca26"
            ],
            [
             1,
             "#f0f921"
            ]
           ]
          },
          "colorway": [
           "#636efa",
           "#EF553B",
           "#00cc96",
           "#ab63fa",
           "#FFA15A",
           "#19d3f3",
           "#FF6692",
           "#B6E880",
           "#FF97FF",
           "#FECB52"
          ],
          "font": {
           "color": "#2a3f5f"
          },
          "geo": {
           "bgcolor": "white",
           "lakecolor": "white",
           "landcolor": "#E5ECF6",
           "showlakes": true,
           "showland": true,
           "subunitcolor": "white"
          },
          "hoverlabel": {
           "align": "left"
          },
          "hovermode": "closest",
          "mapbox": {
           "style": "light"
          },
          "paper_bgcolor": "white",
          "plot_bgcolor": "#E5ECF6",
          "polar": {
           "angularaxis": {
            "gridcolor": "white",
            "linecolor": "white",
            "ticks": ""
           },
           "bgcolor": "#E5ECF6",
           "radialaxis": {
            "gridcolor": "white",
            "linecolor": "white",
            "ticks": ""
           }
          },
          "scene": {
           "xaxis": {
            "backgroundcolor": "#E5ECF6",
            "gridcolor": "white",
            "gridwidth": 2,
            "linecolor": "white",
            "showbackground": true,
            "ticks": "",
            "zerolinecolor": "white"
           },
           "yaxis": {
            "backgroundcolor": "#E5ECF6",
            "gridcolor": "white",
            "gridwidth": 2,
            "linecolor": "white",
            "showbackground": true,
            "ticks": "",
            "zerolinecolor": "white"
           },
           "zaxis": {
            "backgroundcolor": "#E5ECF6",
            "gridcolor": "white",
            "gridwidth": 2,
            "linecolor": "white",
            "showbackground": true,
            "ticks": "",
            "zerolinecolor": "white"
           }
          },
          "shapedefaults": {
           "line": {
            "color": "#2a3f5f"
           }
          },
          "ternary": {
           "aaxis": {
            "gridcolor": "white",
            "linecolor": "white",
            "ticks": ""
           },
           "baxis": {
            "gridcolor": "white",
            "linecolor": "white",
            "ticks": ""
           },
           "bgcolor": "#E5ECF6",
           "caxis": {
            "gridcolor": "white",
            "linecolor": "white",
            "ticks": ""
           }
          },
          "title": {
           "x": 0.05
          },
          "xaxis": {
           "automargin": true,
           "gridcolor": "white",
           "linecolor": "white",
           "ticks": "",
           "title": {
            "standoff": 15
           },
           "zerolinecolor": "white",
           "zerolinewidth": 2
          },
          "yaxis": {
           "automargin": true,
           "gridcolor": "white",
           "linecolor": "white",
           "ticks": "",
           "title": {
            "standoff": 15
           },
           "zerolinecolor": "white",
           "zerolinewidth": 2
          }
         }
        },
        "title": {
         "text": "Validation Comparison"
        },
        "xaxis": {
         "title": {
          "text": "Date"
         }
        },
        "yaxis": {
         "title": {
          "text": "Price"
         }
        }
       }
      }
     },
     "metadata": {},
     "output_type": "display_data"
    }
   ],
   "source": [
    "# Plot the performace of Validation\n",
    "x_val =  list(range(len(y_val_true)))\n",
    "fig_val = go.Figure()\n",
    "fig_val.add_trace(go.Scatter(x=val_dates, y=y_val_true, mode=\"lines\", name=\"True\"))\n",
    "fig_val.add_trace(go.Scatter(x=val_dates, y=y_val_pred, mode=\"lines\", name=\"Prediction\"))\n",
    "fig_val.update_layout(title_text='Validation Comparison', xaxis_title='Date', yaxis_title='Price')\n",
    "fig_val.show()\n"
   ]
  },
  {
   "cell_type": "code",
   "execution_count": 115,
   "id": "4bc9b640",
   "metadata": {},
   "outputs": [
    {
     "name": "stdout",
     "output_type": "stream",
     "text": [
      "\u001b[1m8/8\u001b[0m \u001b[32m━━━━━━━━━━━━━━━━━━━━\u001b[0m\u001b[37m\u001b[0m \u001b[1m0s\u001b[0m 3ms/step \n",
      "Test MAE in Dollars: $6.22\n",
      "Test MAE in Percentage: 3.218%\n"
     ]
    }
   ],
   "source": [
    "# Performace of test set\n",
    "y_test_pred_scaled = best_lstm_model.predict(X_test_seq)\n",
    "\n",
    "y_test_pred = target_scaler.inverse_transform(y_test_pred_scaled)\n",
    "y_test_true = target_scaler.inverse_transform(y_test_seq)\n",
    "\n",
    "mae_test_dollar = mean_absolute_error(y_test_true, y_test_pred)\n",
    "mae_test_percent = (mae_test_dollar / Average_price) * 100\n",
    "print(f\"Test MAE in Dollars: ${mae_test_dollar:.2f}\")\n",
    "print(f\"Test MAE in Percentage: {mae_test_percent:.3f}%\")"
   ]
  },
  {
   "cell_type": "code",
   "execution_count": 119,
   "id": "d329c0b3",
   "metadata": {},
   "outputs": [],
   "source": [
    "test_start_index = train_size + val_size + 7\n",
    "test_dates = df[\"Price\"].iloc[test_start_index: test_start_index + len(y_test_true)]"
   ]
  },
  {
   "cell_type": "code",
   "execution_count": 124,
   "id": "161d63e0",
   "metadata": {},
   "outputs": [],
   "source": [
    "y_test_pred = y_test_pred.flatten()\n",
    "y_test_true = y_test_true.flatten()"
   ]
  },
  {
   "cell_type": "code",
   "execution_count": 129,
   "id": "55817762",
   "metadata": {},
   "outputs": [
    {
     "data": {
      "application/vnd.plotly.v1+json": {
       "config": {
        "plotlyServerURL": "https://plot.ly"
       },
       "data": [
        {
         "mode": "lines",
         "name": "True",
         "type": "scatter",
         "x": [
          "2023-12-21",
          "2023-12-22",
          "2023-12-26",
          "2023-12-27",
          "2023-12-28",
          "2023-12-29",
          "2024-01-02",
          "2024-01-03",
          "2024-01-04",
          "2024-01-05",
          "2024-01-08",
          "2024-01-09",
          "2024-01-10",
          "2024-01-11",
          "2024-01-12",
          "2024-01-16",
          "2024-01-17",
          "2024-01-18",
          "2024-01-19",
          "2024-01-22",
          "2024-01-23",
          "2024-01-24",
          "2024-01-25",
          "2024-01-26",
          "2024-01-29",
          "2024-01-30",
          "2024-01-31",
          "2024-02-01",
          "2024-02-02",
          "2024-02-05",
          "2024-02-06",
          "2024-02-07",
          "2024-02-08",
          "2024-02-09",
          "2024-02-12",
          "2024-02-13",
          "2024-02-14",
          "2024-02-15",
          "2024-02-16",
          "2024-02-20",
          "2024-02-21",
          "2024-02-22",
          "2024-02-23",
          "2024-02-26",
          "2024-02-27",
          "2024-02-28",
          "2024-02-29",
          "2024-03-01",
          "2024-03-04",
          "2024-03-05",
          "2024-03-06",
          "2024-03-07",
          "2024-03-08",
          "2024-03-11",
          "2024-03-12",
          "2024-03-13",
          "2024-03-14",
          "2024-03-15",
          "2024-03-18",
          "2024-03-19",
          "2024-03-20",
          "2024-03-21",
          "2024-03-22",
          "2024-03-25",
          "2024-03-26",
          "2024-03-27",
          "2024-03-28",
          "2024-04-01",
          "2024-04-02",
          "2024-04-03",
          "2024-04-04",
          "2024-04-05",
          "2024-04-08",
          "2024-04-09",
          "2024-04-10",
          "2024-04-11",
          "2024-04-12",
          "2024-04-15",
          "2024-04-16",
          "2024-04-17",
          "2024-04-18",
          "2024-04-19",
          "2024-04-22",
          "2024-04-23",
          "2024-04-24",
          "2024-04-25",
          "2024-04-26",
          "2024-04-29",
          "2024-04-30",
          "2024-05-01",
          "2024-05-02",
          "2024-05-03",
          "2024-05-06",
          "2024-05-07",
          "2024-05-08",
          "2024-05-09",
          "2024-05-10",
          "2024-05-13",
          "2024-05-14",
          "2024-05-15",
          "2024-05-16",
          "2024-05-17",
          "2024-05-20",
          "2024-05-21",
          "2024-05-22",
          "2024-05-23",
          "2024-05-24",
          "2024-05-28",
          "2024-05-29",
          "2024-05-30",
          "2024-05-31",
          "2024-06-03",
          "2024-06-04",
          "2024-06-05",
          "2024-06-06",
          "2024-06-07",
          "2024-06-10",
          "2024-06-11",
          "2024-06-12",
          "2024-06-13",
          "2024-06-14",
          "2024-06-17",
          "2024-06-18",
          "2024-06-20",
          "2024-06-21",
          "2024-06-24",
          "2024-06-25",
          "2024-06-26",
          "2024-06-27",
          "2024-06-28",
          "2024-07-01",
          "2024-07-02",
          "2024-07-03",
          "2024-07-05",
          "2024-07-08",
          "2024-07-09",
          "2024-07-10",
          "2024-07-11",
          "2024-07-12",
          "2024-07-15",
          "2024-07-16",
          "2024-07-17",
          "2024-07-18",
          "2024-07-19",
          "2024-07-22",
          "2024-07-23",
          "2024-07-24",
          "2024-07-25",
          "2024-07-26",
          "2024-07-29",
          "2024-07-30",
          "2024-07-31",
          "2024-08-01",
          "2024-08-02",
          "2024-08-05",
          "2024-08-06",
          "2024-08-07",
          "2024-08-08",
          "2024-08-09",
          "2024-08-12",
          "2024-08-13",
          "2024-08-14",
          "2024-08-15",
          "2024-08-16",
          "2024-08-19",
          "2024-08-20",
          "2024-08-21",
          "2024-08-22",
          "2024-08-23",
          "2024-08-26",
          "2024-08-27",
          "2024-08-28",
          "2024-08-29",
          "2024-08-30",
          "2024-09-03",
          "2024-09-04",
          "2024-09-05",
          "2024-09-06",
          "2024-09-09",
          "2024-09-10",
          "2024-09-11",
          "2024-09-12",
          "2024-09-13",
          "2024-09-16",
          "2024-09-17",
          "2024-09-18",
          "2024-09-19",
          "2024-09-20",
          "2024-09-23",
          "2024-09-24",
          "2024-09-25",
          "2024-09-26",
          "2024-09-27",
          "2024-09-30",
          "2024-10-01",
          "2024-10-02",
          "2024-10-03",
          "2024-10-04",
          "2024-10-07",
          "2024-10-08",
          "2024-10-09",
          "2024-10-10",
          "2024-10-11",
          "2024-10-14",
          "2024-10-15",
          "2024-10-16",
          "2024-10-17",
          "2024-10-18",
          "2024-10-21",
          "2024-10-22",
          "2024-10-23",
          "2024-10-24",
          "2024-10-25",
          "2024-10-28",
          "2024-10-29",
          "2024-10-30",
          "2024-10-31",
          "2024-11-01",
          "2024-11-04",
          "2024-11-05",
          "2024-11-06",
          "2024-11-07",
          "2024-11-08",
          "2024-11-11",
          "2024-11-12",
          "2024-11-13",
          "2024-11-14",
          "2024-11-15",
          "2024-11-18",
          "2024-11-19",
          "2024-11-20",
          "2024-11-21",
          "2024-11-22",
          "2024-11-25",
          "2024-11-26",
          "2024-11-27",
          "2024-11-29",
          "2024-12-02",
          "2024-12-03",
          "2024-12-04",
          "2024-12-05",
          "2024-12-06",
          "2024-12-09",
          "2024-12-10",
          "2024-12-11",
          "2024-12-12",
          "2024-12-13",
          "2024-12-16",
          "2024-12-17",
          "2024-12-18",
          "2024-12-19",
          "2024-12-20",
          "2024-12-23",
          "2024-12-24",
          "2024-12-26",
          "2024-12-27"
         ],
         "y": {
          "bdata": "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",
          "dtype": "f8"
         }
        },
        {
         "mode": "lines",
         "name": "Prediction",
         "type": "scatter",
         "x": [
          "2023-12-21",
          "2023-12-22",
          "2023-12-26",
          "2023-12-27",
          "2023-12-28",
          "2023-12-29",
          "2024-01-02",
          "2024-01-03",
          "2024-01-04",
          "2024-01-05",
          "2024-01-08",
          "2024-01-09",
          "2024-01-10",
          "2024-01-11",
          "2024-01-12",
          "2024-01-16",
          "2024-01-17",
          "2024-01-18",
          "2024-01-19",
          "2024-01-22",
          "2024-01-23",
          "2024-01-24",
          "2024-01-25",
          "2024-01-26",
          "2024-01-29",
          "2024-01-30",
          "2024-01-31",
          "2024-02-01",
          "2024-02-02",
          "2024-02-05",
          "2024-02-06",
          "2024-02-07",
          "2024-02-08",
          "2024-02-09",
          "2024-02-12",
          "2024-02-13",
          "2024-02-14",
          "2024-02-15",
          "2024-02-16",
          "2024-02-20",
          "2024-02-21",
          "2024-02-22",
          "2024-02-23",
          "2024-02-26",
          "2024-02-27",
          "2024-02-28",
          "2024-02-29",
          "2024-03-01",
          "2024-03-04",
          "2024-03-05",
          "2024-03-06",
          "2024-03-07",
          "2024-03-08",
          "2024-03-11",
          "2024-03-12",
          "2024-03-13",
          "2024-03-14",
          "2024-03-15",
          "2024-03-18",
          "2024-03-19",
          "2024-03-20",
          "2024-03-21",
          "2024-03-22",
          "2024-03-25",
          "2024-03-26",
          "2024-03-27",
          "2024-03-28",
          "2024-04-01",
          "2024-04-02",
          "2024-04-03",
          "2024-04-04",
          "2024-04-05",
          "2024-04-08",
          "2024-04-09",
          "2024-04-10",
          "2024-04-11",
          "2024-04-12",
          "2024-04-15",
          "2024-04-16",
          "2024-04-17",
          "2024-04-18",
          "2024-04-19",
          "2024-04-22",
          "2024-04-23",
          "2024-04-24",
          "2024-04-25",
          "2024-04-26",
          "2024-04-29",
          "2024-04-30",
          "2024-05-01",
          "2024-05-02",
          "2024-05-03",
          "2024-05-06",
          "2024-05-07",
          "2024-05-08",
          "2024-05-09",
          "2024-05-10",
          "2024-05-13",
          "2024-05-14",
          "2024-05-15",
          "2024-05-16",
          "2024-05-17",
          "2024-05-20",
          "2024-05-21",
          "2024-05-22",
          "2024-05-23",
          "2024-05-24",
          "2024-05-28",
          "2024-05-29",
          "2024-05-30",
          "2024-05-31",
          "2024-06-03",
          "2024-06-04",
          "2024-06-05",
          "2024-06-06",
          "2024-06-07",
          "2024-06-10",
          "2024-06-11",
          "2024-06-12",
          "2024-06-13",
          "2024-06-14",
          "2024-06-17",
          "2024-06-18",
          "2024-06-20",
          "2024-06-21",
          "2024-06-24",
          "2024-06-25",
          "2024-06-26",
          "2024-06-27",
          "2024-06-28",
          "2024-07-01",
          "2024-07-02",
          "2024-07-03",
          "2024-07-05",
          "2024-07-08",
          "2024-07-09",
          "2024-07-10",
          "2024-07-11",
          "2024-07-12",
          "2024-07-15",
          "2024-07-16",
          "2024-07-17",
          "2024-07-18",
          "2024-07-19",
          "2024-07-22",
          "2024-07-23",
          "2024-07-24",
          "2024-07-25",
          "2024-07-26",
          "2024-07-29",
          "2024-07-30",
          "2024-07-31",
          "2024-08-01",
          "2024-08-02",
          "2024-08-05",
          "2024-08-06",
          "2024-08-07",
          "2024-08-08",
          "2024-08-09",
          "2024-08-12",
          "2024-08-13",
          "2024-08-14",
          "2024-08-15",
          "2024-08-16",
          "2024-08-19",
          "2024-08-20",
          "2024-08-21",
          "2024-08-22",
          "2024-08-23",
          "2024-08-26",
          "2024-08-27",
          "2024-08-28",
          "2024-08-29",
          "2024-08-30",
          "2024-09-03",
          "2024-09-04",
          "2024-09-05",
          "2024-09-06",
          "2024-09-09",
          "2024-09-10",
          "2024-09-11",
          "2024-09-12",
          "2024-09-13",
          "2024-09-16",
          "2024-09-17",
          "2024-09-18",
          "2024-09-19",
          "2024-09-20",
          "2024-09-23",
          "2024-09-24",
          "2024-09-25",
          "2024-09-26",
          "2024-09-27",
          "2024-09-30",
          "2024-10-01",
          "2024-10-02",
          "2024-10-03",
          "2024-10-04",
          "2024-10-07",
          "2024-10-08",
          "2024-10-09",
          "2024-10-10",
          "2024-10-11",
          "2024-10-14",
          "2024-10-15",
          "2024-10-16",
          "2024-10-17",
          "2024-10-18",
          "2024-10-21",
          "2024-10-22",
          "2024-10-23",
          "2024-10-24",
          "2024-10-25",
          "2024-10-28",
          "2024-10-29",
          "2024-10-30",
          "2024-10-31",
          "2024-11-01",
          "2024-11-04",
          "2024-11-05",
          "2024-11-06",
          "2024-11-07",
          "2024-11-08",
          "2024-11-11",
          "2024-11-12",
          "2024-11-13",
          "2024-11-14",
          "2024-11-15",
          "2024-11-18",
          "2024-11-19",
          "2024-11-20",
          "2024-11-21",
          "2024-11-22",
          "2024-11-25",
          "2024-11-26",
          "2024-11-27",
          "2024-11-29",
          "2024-12-02",
          "2024-12-03",
          "2024-12-04",
          "2024-12-05",
          "2024-12-06",
          "2024-12-09",
          "2024-12-10",
          "2024-12-11",
          "2024-12-12",
          "2024-12-13",
          "2024-12-16",
          "2024-12-17",
          "2024-12-18",
          "2024-12-19",
          "2024-12-20",
          "2024-12-23",
          "2024-12-24",
          "2024-12-26",
          "2024-12-27"
         ],
         "y": {
          "bdata": "OALHQgdhx0Lg9slCdOjLQhf5zEI7dM1C1uzLQkoEx0IWlMRCOrLDQltGw0LMXcdC5arFQt74xkLdPMZCcazGQhYqxkK3F8dCONzdQlam20KO7dxCoe3cQsUm40L9kuRC9irjQgdN40KSF+NCFi/dQlIX3UIsmuBCKzLmQpzi6EL3Me1CWq78QicOAEO2Tv5C8qv2Qu7w+kJiyvtC3vX1QvEW9EKFEPFC5zL+QvPw+UKiePtCKCv8QnTG9kLozfhCNCsBQ91xB0N0ogFDu1gIQxzjDUNgcBFDuTAGQ/GVCkNpvwhDXTUIQ7b9AkN7UwdDczECQ6JaBEPbbglDwL0GQ/WvB0NJNgdDm98EQ62qA0PhbwdDbmcHQ71JB0OOowpDBrsGQ35zDEORWQxDsXUNQ+VLDEMfFgtDehsKQ5aqBUNUPQhDsJ4AQ2lL+kIRsPhCsdIAQ+enAkP3EgBD0R4FQ0nMBEO/4AVD47UDQzOxAkOGaghD8goIQ2eeCEPERwlDhEUJQ/k0EEMQzgxDMQgPQ/6MFENB4hJD+yISQwdNEkNYwRJDYBgWQ6cQGEPc2RZDJFsYQ6dDFEOtrxJDdpwQQ4uNFUMuARJDLCMbQxfzGkP4OBxD5JQdQ1FrHkORNiZDjv8iQ+VVI0PgkyhDtnQsQyRyKEPEoyRDrPYgQ+MQI0PiDiRDByslQ3bXJUPUNCRDgdIkQ+BaK0MWzC1DNeEyQ0zfLUPDkDJDcaExQzWMLkOL+zBD19MwQ+vNI0Oy2SRDo1QfQ5BEIUMr6SFDES4bQ3EaF0OQeBxDIHsaQ1YjF0Ofmh5D66EaQ7eXD0OeVwZDzfkUQ4xzGUMRvhhDphkfQ5v0HkP1BiFD4ukhQ+oMJUMNpiRDJfUkQ4+xJEN+tSJDWCoiQy1lIkOMmyFD6Y0fQ7doIkOf1SJDnP0hQ6r1HENMuRlDRlQcQ2qvGkMf8RpDMCwaQ80AH0MRviNDFcQkQ7ybIEMCOiFD+/4hQ+4eKEM/OCZDbeElQ/QhLEOloixDVZ8xQwqeK0Oh5CRD+VgmQ9P0JUPX2ylDIZkqQ9vGLUOZfi5D1skvQ3eYL0OvzDNDvPI0QxtxMkNFIjJDosFFQ8YXOkMlYTxDCq45Q24lO0M3VTpDMSU+Q3BaOEM23DdDXnc2QwmzM0M+5ThD0rw0Q9yeOEPouTNDp9I7Q8FsPkM1rjVDJBg1Q4CAM0NVczND5JEwQ9K3L0M7jDNDWjEwQ1T6M0OgazRDfH8vQzqYLkORKitDQ/QuQ6xXNkPTOzdDGVI8Q0VhPUPm6ztDZyQ8Q6keN0OCbDdDjQY3QxmzPUMoeD5D5vE6QytjPEPMlDhDps03QzMsQUNM9j9DayxAQw==",
          "dtype": "f4"
         }
        }
       ],
       "layout": {
        "template": {
         "data": {
          "bar": [
           {
            "error_x": {
             "color": "#2a3f5f"
            },
            "error_y": {
             "color": "#2a3f5f"
            },
            "marker": {
             "line": {
              "color": "#E5ECF6",
              "width": 0.5
             },
             "pattern": {
              "fillmode": "overlay",
              "size": 10,
              "solidity": 0.2
             }
            },
            "type": "bar"
           }
          ],
          "barpolar": [
           {
            "marker": {
             "line": {
              "color": "#E5ECF6",
              "width": 0.5
             },
             "pattern": {
              "fillmode": "overlay",
              "size": 10,
              "solidity": 0.2
             }
            },
            "type": "barpolar"
           }
          ],
          "carpet": [
           {
            "aaxis": {
             "endlinecolor": "#2a3f5f",
             "gridcolor": "white",
             "linecolor": "white",
             "minorgridcolor": "white",
             "startlinecolor": "#2a3f5f"
            },
            "baxis": {
             "endlinecolor": "#2a3f5f",
             "gridcolor": "white",
             "linecolor": "white",
             "minorgridcolor": "white",
             "startlinecolor": "#2a3f5f"
            },
            "type": "carpet"
           }
          ],
          "choropleth": [
           {
            "colorbar": {
             "outlinewidth": 0,
             "ticks": ""
            },
            "type": "choropleth"
           }
          ],
          "contour": [
           {
            "colorbar": {
             "outlinewidth": 0,
             "ticks": ""
            },
            "colorscale": [
             [
              0,
              "#0d0887"
             ],
             [
              0.1111111111111111,
              "#46039f"
             ],
             [
              0.2222222222222222,
              "#7201a8"
             ],
             [
              0.3333333333333333,
              "#9c179e"
             ],
             [
              0.4444444444444444,
              "#bd3786"
             ],
             [
              0.5555555555555556,
              "#d8576b"
             ],
             [
              0.6666666666666666,
              "#ed7953"
             ],
             [
              0.7777777777777778,
              "#fb9f3a"
             ],
             [
              0.8888888888888888,
              "#fdca26"
             ],
             [
              1,
              "#f0f921"
             ]
            ],
            "type": "contour"
           }
          ],
          "contourcarpet": [
           {
            "colorbar": {
             "outlinewidth": 0,
             "ticks": ""
            },
            "type": "contourcarpet"
           }
          ],
          "heatmap": [
           {
            "colorbar": {
             "outlinewidth": 0,
             "ticks": ""
            },
            "colorscale": [
             [
              0,
              "#0d0887"
             ],
             [
              0.1111111111111111,
              "#46039f"
             ],
             [
              0.2222222222222222,
              "#7201a8"
             ],
             [
              0.3333333333333333,
              "#9c179e"
             ],
             [
              0.4444444444444444,
              "#bd3786"
             ],
             [
              0.5555555555555556,
              "#d8576b"
             ],
             [
              0.6666666666666666,
              "#ed7953"
             ],
             [
              0.7777777777777778,
              "#fb9f3a"
             ],
             [
              0.8888888888888888,
              "#fdca26"
             ],
             [
              1,
              "#f0f921"
             ]
            ],
            "type": "heatmap"
           }
          ],
          "histogram": [
           {
            "marker": {
             "pattern": {
              "fillmode": "overlay",
              "size": 10,
              "solidity": 0.2
             }
            },
            "type": "histogram"
           }
          ],
          "histogram2d": [
           {
            "colorbar": {
             "outlinewidth": 0,
             "ticks": ""
            },
            "colorscale": [
             [
              0,
              "#0d0887"
             ],
             [
              0.1111111111111111,
              "#46039f"
             ],
             [
              0.2222222222222222,
              "#7201a8"
             ],
             [
              0.3333333333333333,
              "#9c179e"
             ],
             [
              0.4444444444444444,
              "#bd3786"
             ],
             [
              0.5555555555555556,
              "#d8576b"
             ],
             [
              0.6666666666666666,
              "#ed7953"
             ],
             [
              0.7777777777777778,
              "#fb9f3a"
             ],
             [
              0.8888888888888888,
              "#fdca26"
             ],
             [
              1,
              "#f0f921"
             ]
            ],
            "type": "histogram2d"
           }
          ],
          "histogram2dcontour": [
           {
            "colorbar": {
             "outlinewidth": 0,
             "ticks": ""
            },
            "colorscale": [
             [
              0,
              "#0d0887"
             ],
             [
              0.1111111111111111,
              "#46039f"
             ],
             [
              0.2222222222222222,
              "#7201a8"
             ],
             [
              0.3333333333333333,
              "#9c179e"
             ],
             [
              0.4444444444444444,
              "#bd3786"
             ],
             [
              0.5555555555555556,
              "#d8576b"
             ],
             [
              0.6666666666666666,
              "#ed7953"
             ],
             [
              0.7777777777777778,
              "#fb9f3a"
             ],
             [
              0.8888888888888888,
              "#fdca26"
             ],
             [
              1,
              "#f0f921"
             ]
            ],
            "type": "histogram2dcontour"
           }
          ],
          "mesh3d": [
           {
            "colorbar": {
             "outlinewidth": 0,
             "ticks": ""
            },
            "type": "mesh3d"
           }
          ],
          "parcoords": [
           {
            "line": {
             "colorbar": {
              "outlinewidth": 0,
              "ticks": ""
             }
            },
            "type": "parcoords"
           }
          ],
          "pie": [
           {
            "automargin": true,
            "type": "pie"
           }
          ],
          "scatter": [
           {
            "fillpattern": {
             "fillmode": "overlay",
             "size": 10,
             "solidity": 0.2
            },
            "type": "scatter"
           }
          ],
          "scatter3d": [
           {
            "line": {
             "colorbar": {
              "outlinewidth": 0,
              "ticks": ""
             }
            },
            "marker": {
             "colorbar": {
              "outlinewidth": 0,
              "ticks": ""
             }
            },
            "type": "scatter3d"
           }
          ],
          "scattercarpet": [
           {
            "marker": {
             "colorbar": {
              "outlinewidth": 0,
              "ticks": ""
             }
            },
            "type": "scattercarpet"
           }
          ],
          "scattergeo": [
           {
            "marker": {
             "colorbar": {
              "outlinewidth": 0,
              "ticks": ""
             }
            },
            "type": "scattergeo"
           }
          ],
          "scattergl": [
           {
            "marker": {
             "colorbar": {
              "outlinewidth": 0,
              "ticks": ""
             }
            },
            "type": "scattergl"
           }
          ],
          "scattermap": [
           {
            "marker": {
             "colorbar": {
              "outlinewidth": 0,
              "ticks": ""
             }
            },
            "type": "scattermap"
           }
          ],
          "scattermapbox": [
           {
            "marker": {
             "colorbar": {
              "outlinewidth": 0,
              "ticks": ""
             }
            },
            "type": "scattermapbox"
           }
          ],
          "scatterpolar": [
           {
            "marker": {
             "colorbar": {
              "outlinewidth": 0,
              "ticks": ""
             }
            },
            "type": "scatterpolar"
           }
          ],
          "scatterpolargl": [
           {
            "marker": {
             "colorbar": {
              "outlinewidth": 0,
              "ticks": ""
             }
            },
            "type": "scatterpolargl"
           }
          ],
          "scatterternary": [
           {
            "marker": {
             "colorbar": {
              "outlinewidth": 0,
              "ticks": ""
             }
            },
            "type": "scatterternary"
           }
          ],
          "surface": [
           {
            "colorbar": {
             "outlinewidth": 0,
             "ticks": ""
            },
            "colorscale": [
             [
              0,
              "#0d0887"
             ],
             [
              0.1111111111111111,
              "#46039f"
             ],
             [
              0.2222222222222222,
              "#7201a8"
             ],
             [
              0.3333333333333333,
              "#9c179e"
             ],
             [
              0.4444444444444444,
              "#bd3786"
             ],
             [
              0.5555555555555556,
              "#d8576b"
             ],
             [
              0.6666666666666666,
              "#ed7953"
             ],
             [
              0.7777777777777778,
              "#fb9f3a"
             ],
             [
              0.8888888888888888,
              "#fdca26"
             ],
             [
              1,
              "#f0f921"
             ]
            ],
            "type": "surface"
           }
          ],
          "table": [
           {
            "cells": {
             "fill": {
              "color": "#EBF0F8"
             },
             "line": {
              "color": "white"
             }
            },
            "header": {
             "fill": {
              "color": "#C8D4E3"
             },
             "line": {
              "color": "white"
             }
            },
            "type": "table"
           }
          ]
         },
         "layout": {
          "annotationdefaults": {
           "arrowcolor": "#2a3f5f",
           "arrowhead": 0,
           "arrowwidth": 1
          },
          "autotypenumbers": "strict",
          "coloraxis": {
           "colorbar": {
            "outlinewidth": 0,
            "ticks": ""
           }
          },
          "colorscale": {
           "diverging": [
            [
             0,
             "#8e0152"
            ],
            [
             0.1,
             "#c51b7d"
            ],
            [
             0.2,
             "#de77ae"
            ],
            [
             0.3,
             "#f1b6da"
            ],
            [
             0.4,
             "#fde0ef"
            ],
            [
             0.5,
             "#f7f7f7"
            ],
            [
             0.6,
             "#e6f5d0"
            ],
            [
             0.7,
             "#b8e186"
            ],
            [
             0.8,
             "#7fbc41"
            ],
            [
             0.9,
             "#4d9221"
            ],
            [
             1,
             "#276419"
            ]
           ],
           "sequential": [
            [
             0,
             "#0d0887"
            ],
            [
             0.1111111111111111,
             "#46039f"
            ],
            [
             0.2222222222222222,
             "#7201a8"
            ],
            [
             0.3333333333333333,
             "#9c179e"
            ],
            [
             0.4444444444444444,
             "#bd3786"
            ],
            [
             0.5555555555555556,
             "#d8576b"
            ],
            [
             0.6666666666666666,
             "#ed7953"
            ],
            [
             0.7777777777777778,
             "#fb9f3a"
            ],
            [
             0.8888888888888888,
             "#fdca26"
            ],
            [
             1,
             "#f0f921"
            ]
           ],
           "sequentialminus": [
            [
             0,
             "#0d0887"
            ],
            [
             0.1111111111111111,
             "#46039f"
            ],
            [
             0.2222222222222222,
             "#7201a8"
            ],
            [
             0.3333333333333333,
             "#9c179e"
            ],
            [
             0.4444444444444444,
             "#bd3786"
            ],
            [
             0.5555555555555556,
             "#d8576b"
            ],
            [
             0.6666666666666666,
             "#ed7953"
            ],
            [
             0.7777777777777778,
             "#fb9f3a"
            ],
            [
             0.8888888888888888,
             "#fdca26"
            ],
            [
             1,
             "#f0f921"
            ]
           ]
          },
          "colorway": [
           "#636efa",
           "#EF553B",
           "#00cc96",
           "#ab63fa",
           "#FFA15A",
           "#19d3f3",
           "#FF6692",
           "#B6E880",
           "#FF97FF",
           "#FECB52"
          ],
          "font": {
           "color": "#2a3f5f"
          },
          "geo": {
           "bgcolor": "white",
           "lakecolor": "white",
           "landcolor": "#E5ECF6",
           "showlakes": true,
           "showland": true,
           "subunitcolor": "white"
          },
          "hoverlabel": {
           "align": "left"
          },
          "hovermode": "closest",
          "mapbox": {
           "style": "light"
          },
          "paper_bgcolor": "white",
          "plot_bgcolor": "#E5ECF6",
          "polar": {
           "angularaxis": {
            "gridcolor": "white",
            "linecolor": "white",
            "ticks": ""
           },
           "bgcolor": "#E5ECF6",
           "radialaxis": {
            "gridcolor": "white",
            "linecolor": "white",
            "ticks": ""
           }
          },
          "scene": {
           "xaxis": {
            "backgroundcolor": "#E5ECF6",
            "gridcolor": "white",
            "gridwidth": 2,
            "linecolor": "white",
            "showbackground": true,
            "ticks": "",
            "zerolinecolor": "white"
           },
           "yaxis": {
            "backgroundcolor": "#E5ECF6",
            "gridcolor": "white",
            "gridwidth": 2,
            "linecolor": "white",
            "showbackground": true,
            "ticks": "",
            "zerolinecolor": "white"
           },
           "zaxis": {
            "backgroundcolor": "#E5ECF6",
            "gridcolor": "white",
            "gridwidth": 2,
            "linecolor": "white",
            "showbackground": true,
            "ticks": "",
            "zerolinecolor": "white"
           }
          },
          "shapedefaults": {
           "line": {
            "color": "#2a3f5f"
           }
          },
          "ternary": {
           "aaxis": {
            "gridcolor": "white",
            "linecolor": "white",
            "ticks": ""
           },
           "baxis": {
            "gridcolor": "white",
            "linecolor": "white",
            "ticks": ""
           },
           "bgcolor": "#E5ECF6",
           "caxis": {
            "gridcolor": "white",
            "linecolor": "white",
            "ticks": ""
           }
          },
          "title": {
           "x": 0.05
          },
          "xaxis": {
           "automargin": true,
           "gridcolor": "white",
           "linecolor": "white",
           "ticks": "",
           "title": {
            "standoff": 15
           },
           "zerolinecolor": "white",
           "zerolinewidth": 2
          },
          "yaxis": {
           "automargin": true,
           "gridcolor": "white",
           "linecolor": "white",
           "ticks": "",
           "title": {
            "standoff": 15
           },
           "zerolinecolor": "white",
           "zerolinewidth": 2
          }
         }
        },
        "title": {
         "text": "Test Comparision"
        },
        "xaxis": {
         "title": {
          "text": "Date"
         }
        },
        "yaxis": {
         "title": {
          "text": "Price"
         }
        }
       }
      }
     },
     "metadata": {},
     "output_type": "display_data"
    }
   ],
   "source": [
    "fig_test = go.Figure()\n",
    "fig_test.add_trace(go.Scatter(x=test_dates, y=y_test_true, mode='lines', name=\"True\"))\n",
    "fig_test.add_trace(go.Scatter(x=test_dates, y=y_test_pred, mode='lines', name='Prediction'))\n",
    "fig_test.update_layout(title_text=\"Test Comparision\", xaxis_title='Date', yaxis_title='Price')"
   ]
  },
  {
   "cell_type": "code",
   "execution_count": null,
   "id": "5f2ad229",
   "metadata": {},
   "outputs": [],
   "source": []
  }
 ],
 "metadata": {
  "kernelspec": {
   "display_name": "venv",
   "language": "python",
   "name": "python3"
  },
  "language_info": {
   "codemirror_mode": {
    "name": "ipython",
    "version": 3
   },
   "file_extension": ".py",
   "mimetype": "text/x-python",
   "name": "python",
   "nbconvert_exporter": "python",
   "pygments_lexer": "ipython3",
   "version": "3.10.0"
  }
 },
 "nbformat": 4,
 "nbformat_minor": 5
}
