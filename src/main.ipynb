{
 "cells": [
  {
   "cell_type": "code",
   "execution_count": 25,
   "id": "d8cfe273",
   "metadata": {},
   "outputs": [],
   "source": [
    "import pandas as pd\n",
    "import numpy as np\n",
    "from sklearn.preprocessing import MinMaxScaler\n",
    "from sklearn.metrics import mean_absolute_error\n",
    "from keras.models import Sequential\n",
    "from keras.layers import Dense, Input, LSTM\n",
    "from keras.callbacks import EarlyStopping\n",
    "from keras_tuner import RandomSearch, HyperParameters\n",
    "import tensorflow as tf\n",
    "import plotly.graph_objects as go"
   ]
  },
  {
   "cell_type": "code",
   "execution_count": 26,
   "id": "7a427f4c",
   "metadata": {},
   "outputs": [
    {
     "name": "stdout",
     "output_type": "stream",
     "text": [
      "<class 'pandas.core.frame.DataFrame'>\n",
      "RangeIndex: 1762 entries, 0 to 1761\n",
      "Data columns (total 6 columns):\n",
      " #   Column  Non-Null Count  Dtype \n",
      "---  ------  --------------  ----- \n",
      " 0   Price   1762 non-null   object\n",
      " 1   Close   1761 non-null   object\n",
      " 2   High    1761 non-null   object\n",
      " 3   Low     1761 non-null   object\n",
      " 4   Open    1761 non-null   object\n",
      " 5   Volume  1761 non-null   object\n",
      "dtypes: object(6)\n",
      "memory usage: 82.7+ KB\n"
     ]
    }
   ],
   "source": [
    "df = pd.read_csv('tsmc_data.csv')\n",
    "df.info()"
   ]
  },
  {
   "cell_type": "code",
   "execution_count": 27,
   "id": "afc6ab8d",
   "metadata": {},
   "outputs": [
    {
     "data": {
      "text/plain": [
       "Price     0\n",
       "Close     0\n",
       "High      0\n",
       "Low       0\n",
       "Open      0\n",
       "Volume    0\n",
       "dtype: int64"
      ]
     },
     "execution_count": 27,
     "metadata": {},
     "output_type": "execute_result"
    }
   ],
   "source": [
    "df = df.drop(index=[0, 1])\n",
    "missing_val = df.isnull().sum()\n",
    "missing_val"
   ]
  },
  {
   "cell_type": "code",
   "execution_count": 28,
   "id": "70301d5e",
   "metadata": {},
   "outputs": [
    {
     "data": {
      "text/html": [
       "<div>\n",
       "<style scoped>\n",
       "    .dataframe tbody tr th:only-of-type {\n",
       "        vertical-align: middle;\n",
       "    }\n",
       "\n",
       "    .dataframe tbody tr th {\n",
       "        vertical-align: top;\n",
       "    }\n",
       "\n",
       "    .dataframe thead th {\n",
       "        text-align: right;\n",
       "    }\n",
       "</style>\n",
       "<table border=\"1\" class=\"dataframe\">\n",
       "  <thead>\n",
       "    <tr style=\"text-align: right;\">\n",
       "      <th></th>\n",
       "      <th>Price</th>\n",
       "      <th>Close</th>\n",
       "      <th>High</th>\n",
       "      <th>Low</th>\n",
       "      <th>Open</th>\n",
       "      <th>Volume</th>\n",
       "    </tr>\n",
       "  </thead>\n",
       "  <tbody>\n",
       "    <tr>\n",
       "      <th>2</th>\n",
       "      <td>2018-01-02</td>\n",
       "      <td>34.1712760925293</td>\n",
       "      <td>34.1962662572868</td>\n",
       "      <td>33.67145055282769</td>\n",
       "      <td>33.74642422489328</td>\n",
       "      <td>4984000</td>\n",
       "    </tr>\n",
       "    <tr>\n",
       "      <th>3</th>\n",
       "      <td>2018-01-03</td>\n",
       "      <td>34.74608612060547</td>\n",
       "      <td>34.82939199967066</td>\n",
       "      <td>34.52116501382098</td>\n",
       "      <td>34.646122243521596</td>\n",
       "      <td>6963200</td>\n",
       "    </tr>\n",
       "    <tr>\n",
       "      <th>4</th>\n",
       "      <td>2018-01-04</td>\n",
       "      <td>34.562808990478516</td>\n",
       "      <td>34.987657721727544</td>\n",
       "      <td>34.52948664902551</td>\n",
       "      <td>34.92101303882153</td>\n",
       "      <td>4876600</td>\n",
       "    </tr>\n",
       "    <tr>\n",
       "      <th>5</th>\n",
       "      <td>2018-01-05</td>\n",
       "      <td>35.3708610534668</td>\n",
       "      <td>35.462495918950445</td>\n",
       "      <td>34.812726040493885</td>\n",
       "      <td>34.896028730318704</td>\n",
       "      <td>5330800</td>\n",
       "    </tr>\n",
       "    <tr>\n",
       "      <th>6</th>\n",
       "      <td>2018-01-08</td>\n",
       "      <td>35.35420227050781</td>\n",
       "      <td>35.38752461980848</td>\n",
       "      <td>35.14594235406982</td>\n",
       "      <td>35.32088309900127</td>\n",
       "      <td>3538200</td>\n",
       "    </tr>\n",
       "  </tbody>\n",
       "</table>\n",
       "</div>"
      ],
      "text/plain": [
       "        Price               Close                High                 Low  \\\n",
       "2  2018-01-02    34.1712760925293    34.1962662572868   33.67145055282769   \n",
       "3  2018-01-03   34.74608612060547   34.82939199967066   34.52116501382098   \n",
       "4  2018-01-04  34.562808990478516  34.987657721727544   34.52948664902551   \n",
       "5  2018-01-05    35.3708610534668  35.462495918950445  34.812726040493885   \n",
       "6  2018-01-08   35.35420227050781   35.38752461980848   35.14594235406982   \n",
       "\n",
       "                 Open   Volume  \n",
       "2   33.74642422489328  4984000  \n",
       "3  34.646122243521596  6963200  \n",
       "4   34.92101303882153  4876600  \n",
       "5  34.896028730318704  5330800  \n",
       "6   35.32088309900127  3538200  "
      ]
     },
     "execution_count": 28,
     "metadata": {},
     "output_type": "execute_result"
    }
   ],
   "source": [
    "# handle missing val\n",
    "df.ffill(inplace=True)\n",
    "df.head(5)"
   ]
  },
  {
   "cell_type": "code",
   "execution_count": 29,
   "id": "9220c4ff",
   "metadata": {},
   "outputs": [],
   "source": [
    "# Use feature to predict target\n",
    "feature = ['High', 'Low', 'Open', 'Volume']\n",
    "target = 'Close'\n",
    "\n",
    "X = df[feature].values\n",
    "y = df[target].values.reshape(-1, 1)"
   ]
  },
  {
   "cell_type": "code",
   "execution_count": 30,
   "id": "070840ca",
   "metadata": {},
   "outputs": [],
   "source": [
    "# Split the data to train, val and test\n",
    "n = len(X)\n",
    "train_size = int(n * 0.7)\n",
    "val_size = int(n * 0.15)\n",
    "\n",
    "# training set\n",
    "X_train = X[:train_size]\n",
    "y_train = y[:train_size]\n",
    "\n",
    "# validation set\n",
    "X_val = X[train_size:train_size + val_size]\n",
    "y_val = y[train_size:train_size + val_size]\n",
    "\n",
    "# test set\n",
    "X_test = X[train_size + val_size:]\n",
    "y_test = y[train_size + val_size:]"
   ]
  },
  {
   "cell_type": "code",
   "execution_count": 31,
   "id": "311263ff",
   "metadata": {},
   "outputs": [],
   "source": [
    "# Normalize\n",
    "# feature\n",
    "feature_scaler = MinMaxScaler()\n",
    "feature_scaler.fit(X_train)\n",
    "X_train_scaled = feature_scaler.transform(X_train)\n",
    "X_val_scaled = feature_scaler.transform(X_val)\n",
    "X_test_scaled = feature_scaler.transform(X_test)\n",
    "\n",
    "# target\n",
    "target_scaler = MinMaxScaler()\n",
    "target_scaler.fit(y_train)\n",
    "y_train_scaled = target_scaler.transform(y_train)\n",
    "y_val_scaled = target_scaler.transform(y_val)\n",
    "y_test_scaled = target_scaler.transform(y_test)"
   ]
  },
  {
   "cell_type": "code",
   "execution_count": 32,
   "id": "70afec47",
   "metadata": {},
   "outputs": [],
   "source": [
    "# Create sequences\n",
    "def create_sequence(X, y, look_back=7, foresight=1):\n",
    "    X_seq, y_seq = [], []\n",
    "    for i in range(len(X) - look_back - foresight):\n",
    "        X_seq.append(X[i:i+look_back])\n",
    "        y_seq.append(y[i+look_back+foresight-1])\n",
    "    return X_seq, y_seq"
   ]
  },
  {
   "cell_type": "code",
   "execution_count": 33,
   "id": "1187dc5a",
   "metadata": {},
   "outputs": [],
   "source": [
    "X_train_seq, y_train_seq = create_sequence(X_train_scaled, y_train_scaled)\n",
    "X_val_seq, y_val_seq = create_sequence(X_val_scaled, y_val_scaled)\n",
    "X_test_seq, y_test_seq = create_sequence(X_test_scaled, y_test_scaled)\n",
    "\n",
    "X_train_seq = np.array(X_train_seq)\n",
    "y_train_seq = np.array(y_train_seq)\n",
    "\n",
    "X_val_seq = np.array(X_val_seq)\n",
    "y_val_seq = np.array(y_val_seq)\n",
    "\n",
    "X_test_seq = np.array(X_test_seq)\n",
    "y_test_seq = np.array(y_test_seq)"
   ]
  },
  {
   "cell_type": "code",
   "execution_count": 34,
   "id": "87864ff1",
   "metadata": {},
   "outputs": [
    {
     "name": "stdout",
     "output_type": "stream",
     "text": [
      "Reloading Tuner from tuning\\lstm_stock_forecast\\tuner0.json\n"
     ]
    }
   ],
   "source": [
    "# LSTM model with hyper parameter tuning \n",
    "\n",
    "def LSTM_tunning(hp):\n",
    "    model = Sequential()\n",
    "    model.add(Input(shape=(7, 4)))\n",
    "    # LSTM\n",
    "    model.add(LSTM(units=hp.Int('lstm_unit', min_value=32, max_value=128, step=32), return_sequences=False))\n",
    "    # Dense\n",
    "    model.add(Dense(units=hp.Int('dense_unit', min_value=16, max_value=64, step=16), activation='relu'))\n",
    "\n",
    "    # Output\n",
    "    model.add(Dense(1, activation='linear'))\n",
    "\n",
    "    optimizer = hp.Choice('optimizer', ['adam', 'rmsprop'])\n",
    "    learning_rate = hp.Choice('lr', [1e-2, 1e-3, 5e-4])\n",
    "    \n",
    "    if optimizer == 'adam':\n",
    "        opt = tf.keras.optimizers.Adam(learning_rate=learning_rate)\n",
    "    else:\n",
    "        opt = tf.keras.optimizers.RMSprop(learning_rate=learning_rate)\n",
    "    model.compile(optimizer=opt, loss='mae', metrics=['mae'])\n",
    "    return model\n",
    "\n",
    "lstm_tuner = RandomSearch(\n",
    "    hypermodel=LSTM_tunning,\n",
    "    objective='val_mae',\n",
    "    max_trials=30,\n",
    "    executions_per_trial=2,\n",
    "    directory='tuning',\n",
    "    project_name='lstm_stock_forecast'\n",
    ")\n",
    "\n",
    "early_stop = EarlyStopping(patience=10, restore_best_weights=True)\n",
    "\n",
    "lstm_tuner.search(X_train_seq, y_train_seq, epochs=100, validation_data=(X_val_seq, y_val_seq), batch_size = 32, callbacks = [early_stop])"
   ]
  },
  {
   "cell_type": "code",
   "execution_count": 35,
   "id": "904820e3",
   "metadata": {},
   "outputs": [
    {
     "name": "stdout",
     "output_type": "stream",
     "text": [
      "Best Hyper tuning for LSTM:\n",
      "LSTM units: 64\n",
      "Dense units: 32\n",
      "Optimizer: adam\n",
      "Learning rate: 0.01\n"
     ]
    }
   ],
   "source": [
    "best_lsmt_parameter = lstm_tuner.get_best_hyperparameters(num_trials=1)[0]\n",
    "\n",
    "print('Best Hyper tuning for LSTM:')\n",
    "print(f\"LSTM units: {best_lsmt_parameter.get('lstm_unit')}\")\n",
    "print(f\"Dense units: {best_lsmt_parameter.get('dense_unit')}\")\n",
    "print(f\"Optimizer: {best_lsmt_parameter.get('optimizer')}\")\n",
    "print(f\"Learning rate: {best_lsmt_parameter.get('lr')}\")"
   ]
  },
  {
   "cell_type": "code",
   "execution_count": 36,
   "id": "14b61816",
   "metadata": {},
   "outputs": [
    {
     "name": "stdout",
     "output_type": "stream",
     "text": [
      "Validation MAE in dollars: $1.40\n"
     ]
    },
    {
     "name": "stderr",
     "output_type": "stream",
     "text": [
      "c:\\Users\\danie\\Desktop\\Project\\Time-Series-Forecasting-of-TSMC-Stock-Prices-Using-RNNs-and-ConvNets\\venv\\lib\\site-packages\\keras\\src\\saving\\saving_lib.py:802: UserWarning:\n",
      "\n",
      "Skipping variable loading for optimizer 'adam', because it has 2 variables whereas the saved optimizer has 16 variables. \n",
      "\n"
     ]
    }
   ],
   "source": [
    "# check the result if it's acceptable\n",
    "best_lstm_model = lstm_tuner.get_best_models(num_models=1)[0]\n",
    "y_val_pred_scaled = best_lstm_model(X_val_seq)\n",
    "\n",
    "y_val_pred = target_scaler.inverse_transform(y_val_pred_scaled)\n",
    "y_val_true = target_scaler.inverse_transform(y_val_seq)\n",
    "\n",
    "\n",
    "mae_dollor = mean_absolute_error(y_val_true, y_val_pred)\n",
    "print(f\"Validation MAE in dollars: ${mae_dollor:.2f}\")"
   ]
  },
  {
   "cell_type": "code",
   "execution_count": 53,
   "id": "c1c3340a",
   "metadata": {},
   "outputs": [],
   "source": [
    "y_val_true = y_val_true.flatten()\n",
    "y_val_pred = y_val_pred.flatten()"
   ]
  },
  {
   "cell_type": "code",
   "execution_count": 64,
   "id": "2a415967",
   "metadata": {},
   "outputs": [],
   "source": [
    "val_dates = df['Price'].iloc[0:0 + len(y_val_true)]"
   ]
  },
  {
   "cell_type": "code",
   "execution_count": null,
   "id": "90f56da5",
   "metadata": {},
   "outputs": [
    {
     "data": {
      "application/vnd.plotly.v1+json": {
       "config": {
        "plotlyServerURL": "https://plot.ly"
       },
       "data": [
        {
         "mode": "lines",
         "name": "True",
         "type": "scatter",
         "x": [
          "2018-01-02",
          "2018-01-03",
          "2018-01-04",
          "2018-01-05",
          "2018-01-08",
          "2018-01-09",
          "2018-01-10",
          "2018-01-11",
          "2018-01-12",
          "2018-01-16",
          "2018-01-17",
          "2018-01-18",
          "2018-01-19",
          "2018-01-22",
          "2018-01-23",
          "2018-01-24",
          "2018-01-25",
          "2018-01-26",
          "2018-01-29",
          "2018-01-30",
          "2018-01-31",
          "2018-02-01",
          "2018-02-02",
          "2018-02-05",
          "2018-02-06",
          "2018-02-07",
          "2018-02-08",
          "2018-02-09",
          "2018-02-12",
          "2018-02-13",
          "2018-02-14",
          "2018-02-15",
          "2018-02-16",
          "2018-02-20",
          "2018-02-21",
          "2018-02-22",
          "2018-02-23",
          "2018-02-26",
          "2018-02-27",
          "2018-02-28",
          "2018-03-01",
          "2018-03-02",
          "2018-03-05",
          "2018-03-06",
          "2018-03-07",
          "2018-03-08",
          "2018-03-09",
          "2018-03-12",
          "2018-03-13",
          "2018-03-14",
          "2018-03-15",
          "2018-03-16",
          "2018-03-19",
          "2018-03-20",
          "2018-03-21",
          "2018-03-22",
          "2018-03-23",
          "2018-03-26",
          "2018-03-27",
          "2018-03-28",
          "2018-03-29",
          "2018-04-02",
          "2018-04-03",
          "2018-04-04",
          "2018-04-05",
          "2018-04-06",
          "2018-04-09",
          "2018-04-10",
          "2018-04-11",
          "2018-04-12",
          "2018-04-13",
          "2018-04-16",
          "2018-04-17",
          "2018-04-18",
          "2018-04-19",
          "2018-04-20",
          "2018-04-23",
          "2018-04-24",
          "2018-04-25",
          "2018-04-26",
          "2018-04-27",
          "2018-04-30",
          "2018-05-01",
          "2018-05-02",
          "2018-05-03",
          "2018-05-04",
          "2018-05-07",
          "2018-05-08",
          "2018-05-09",
          "2018-05-10",
          "2018-05-11",
          "2018-05-14",
          "2018-05-15",
          "2018-05-16",
          "2018-05-17",
          "2018-05-18",
          "2018-05-21",
          "2018-05-22",
          "2018-05-23",
          "2018-05-24",
          "2018-05-25",
          "2018-05-29",
          "2018-05-30",
          "2018-05-31",
          "2018-06-01",
          "2018-06-04",
          "2018-06-05",
          "2018-06-06",
          "2018-06-07",
          "2018-06-08",
          "2018-06-11",
          "2018-06-12",
          "2018-06-13",
          "2018-06-14",
          "2018-06-15",
          "2018-06-18",
          "2018-06-19",
          "2018-06-20",
          "2018-06-21",
          "2018-06-22",
          "2018-06-25",
          "2018-06-26",
          "2018-06-27",
          "2018-06-28",
          "2018-06-29",
          "2018-07-02",
          "2018-07-03",
          "2018-07-05",
          "2018-07-06",
          "2018-07-09",
          "2018-07-10",
          "2018-07-11",
          "2018-07-12",
          "2018-07-13",
          "2018-07-16",
          "2018-07-17",
          "2018-07-18",
          "2018-07-19",
          "2018-07-20",
          "2018-07-23",
          "2018-07-24",
          "2018-07-25",
          "2018-07-26",
          "2018-07-27",
          "2018-07-30",
          "2018-07-31",
          "2018-08-01",
          "2018-08-02",
          "2018-08-03",
          "2018-08-06",
          "2018-08-07",
          "2018-08-08",
          "2018-08-09",
          "2018-08-10",
          "2018-08-13",
          "2018-08-14",
          "2018-08-15",
          "2018-08-16",
          "2018-08-17",
          "2018-08-20",
          "2018-08-21",
          "2018-08-22",
          "2018-08-23",
          "2018-08-24",
          "2018-08-27",
          "2018-08-28",
          "2018-08-29",
          "2018-08-30",
          "2018-08-31",
          "2018-09-04",
          "2018-09-05",
          "2018-09-06",
          "2018-09-07",
          "2018-09-10",
          "2018-09-11",
          "2018-09-12",
          "2018-09-13",
          "2018-09-14",
          "2018-09-17",
          "2018-09-18",
          "2018-09-19",
          "2018-09-20",
          "2018-09-21",
          "2018-09-24",
          "2018-09-25",
          "2018-09-26",
          "2018-09-27",
          "2018-09-28",
          "2018-10-01",
          "2018-10-02",
          "2018-10-03",
          "2018-10-04",
          "2018-10-05",
          "2018-10-08",
          "2018-10-09",
          "2018-10-10",
          "2018-10-11",
          "2018-10-12",
          "2018-10-15",
          "2018-10-16",
          "2018-10-17",
          "2018-10-18",
          "2018-10-19",
          "2018-10-22",
          "2018-10-23",
          "2018-10-24",
          "2018-10-25",
          "2018-10-26",
          "2018-10-29",
          "2018-10-30",
          "2018-10-31",
          "2018-11-01",
          "2018-11-02",
          "2018-11-05",
          "2018-11-06",
          "2018-11-07",
          "2018-11-08",
          "2018-11-09",
          "2018-11-12",
          "2018-11-13",
          "2018-11-14",
          "2018-11-15",
          "2018-11-16",
          "2018-11-19",
          "2018-11-20",
          "2018-11-21",
          "2018-11-23",
          "2018-11-26",
          "2018-11-27",
          "2018-11-28",
          "2018-11-29",
          "2018-11-30",
          "2018-12-03",
          "2018-12-04",
          "2018-12-06",
          "2018-12-07",
          "2018-12-10",
          "2018-12-11",
          "2018-12-12",
          "2018-12-13",
          "2018-12-14",
          "2018-12-17",
          "2018-12-18",
          "2018-12-19",
          "2018-12-20",
          "2018-12-21",
          "2018-12-24",
          "2018-12-26",
          "2018-12-27",
          "2018-12-28",
          "2018-12-31",
          "2019-01-02",
          "2019-01-03",
          "2019-01-04",
          "2019-01-07",
          "2019-01-08"
         ],
         "y": {
          "bdata": "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",
          "dtype": "f8"
         }
        },
        {
         "mode": "lines",
         "name": "Prediction",
         "type": "scatter",
         "x": [
          "2018-01-02",
          "2018-01-03",
          "2018-01-04",
          "2018-01-05",
          "2018-01-08",
          "2018-01-09",
          "2018-01-10",
          "2018-01-11",
          "2018-01-12",
          "2018-01-16",
          "2018-01-17",
          "2018-01-18",
          "2018-01-19",
          "2018-01-22",
          "2018-01-23",
          "2018-01-24",
          "2018-01-25",
          "2018-01-26",
          "2018-01-29",
          "2018-01-30",
          "2018-01-31",
          "2018-02-01",
          "2018-02-02",
          "2018-02-05",
          "2018-02-06",
          "2018-02-07",
          "2018-02-08",
          "2018-02-09",
          "2018-02-12",
          "2018-02-13",
          "2018-02-14",
          "2018-02-15",
          "2018-02-16",
          "2018-02-20",
          "2018-02-21",
          "2018-02-22",
          "2018-02-23",
          "2018-02-26",
          "2018-02-27",
          "2018-02-28",
          "2018-03-01",
          "2018-03-02",
          "2018-03-05",
          "2018-03-06",
          "2018-03-07",
          "2018-03-08",
          "2018-03-09",
          "2018-03-12",
          "2018-03-13",
          "2018-03-14",
          "2018-03-15",
          "2018-03-16",
          "2018-03-19",
          "2018-03-20",
          "2018-03-21",
          "2018-03-22",
          "2018-03-23",
          "2018-03-26",
          "2018-03-27",
          "2018-03-28",
          "2018-03-29",
          "2018-04-02",
          "2018-04-03",
          "2018-04-04",
          "2018-04-05",
          "2018-04-06",
          "2018-04-09",
          "2018-04-10",
          "2018-04-11",
          "2018-04-12",
          "2018-04-13",
          "2018-04-16",
          "2018-04-17",
          "2018-04-18",
          "2018-04-19",
          "2018-04-20",
          "2018-04-23",
          "2018-04-24",
          "2018-04-25",
          "2018-04-26",
          "2018-04-27",
          "2018-04-30",
          "2018-05-01",
          "2018-05-02",
          "2018-05-03",
          "2018-05-04",
          "2018-05-07",
          "2018-05-08",
          "2018-05-09",
          "2018-05-10",
          "2018-05-11",
          "2018-05-14",
          "2018-05-15",
          "2018-05-16",
          "2018-05-17",
          "2018-05-18",
          "2018-05-21",
          "2018-05-22",
          "2018-05-23",
          "2018-05-24",
          "2018-05-25",
          "2018-05-29",
          "2018-05-30",
          "2018-05-31",
          "2018-06-01",
          "2018-06-04",
          "2018-06-05",
          "2018-06-06",
          "2018-06-07",
          "2018-06-08",
          "2018-06-11",
          "2018-06-12",
          "2018-06-13",
          "2018-06-14",
          "2018-06-15",
          "2018-06-18",
          "2018-06-19",
          "2018-06-20",
          "2018-06-21",
          "2018-06-22",
          "2018-06-25",
          "2018-06-26",
          "2018-06-27",
          "2018-06-28",
          "2018-06-29",
          "2018-07-02",
          "2018-07-03",
          "2018-07-05",
          "2018-07-06",
          "2018-07-09",
          "2018-07-10",
          "2018-07-11",
          "2018-07-12",
          "2018-07-13",
          "2018-07-16",
          "2018-07-17",
          "2018-07-18",
          "2018-07-19",
          "2018-07-20",
          "2018-07-23",
          "2018-07-24",
          "2018-07-25",
          "2018-07-26",
          "2018-07-27",
          "2018-07-30",
          "2018-07-31",
          "2018-08-01",
          "2018-08-02",
          "2018-08-03",
          "2018-08-06",
          "2018-08-07",
          "2018-08-08",
          "2018-08-09",
          "2018-08-10",
          "2018-08-13",
          "2018-08-14",
          "2018-08-15",
          "2018-08-16",
          "2018-08-17",
          "2018-08-20",
          "2018-08-21",
          "2018-08-22",
          "2018-08-23",
          "2018-08-24",
          "2018-08-27",
          "2018-08-28",
          "2018-08-29",
          "2018-08-30",
          "2018-08-31",
          "2018-09-04",
          "2018-09-05",
          "2018-09-06",
          "2018-09-07",
          "2018-09-10",
          "2018-09-11",
          "2018-09-12",
          "2018-09-13",
          "2018-09-14",
          "2018-09-17",
          "2018-09-18",
          "2018-09-19",
          "2018-09-20",
          "2018-09-21",
          "2018-09-24",
          "2018-09-25",
          "2018-09-26",
          "2018-09-27",
          "2018-09-28",
          "2018-10-01",
          "2018-10-02",
          "2018-10-03",
          "2018-10-04",
          "2018-10-05",
          "2018-10-08",
          "2018-10-09",
          "2018-10-10",
          "2018-10-11",
          "2018-10-12",
          "2018-10-15",
          "2018-10-16",
          "2018-10-17",
          "2018-10-18",
          "2018-10-19",
          "2018-10-22",
          "2018-10-23",
          "2018-10-24",
          "2018-10-25",
          "2018-10-26",
          "2018-10-29",
          "2018-10-30",
          "2018-10-31",
          "2018-11-01",
          "2018-11-02",
          "2018-11-05",
          "2018-11-06",
          "2018-11-07",
          "2018-11-08",
          "2018-11-09",
          "2018-11-12",
          "2018-11-13",
          "2018-11-14",
          "2018-11-15",
          "2018-11-16",
          "2018-11-19",
          "2018-11-20",
          "2018-11-21",
          "2018-11-23",
          "2018-11-26",
          "2018-11-27",
          "2018-11-28",
          "2018-11-29",
          "2018-11-30",
          "2018-12-03",
          "2018-12-04",
          "2018-12-06",
          "2018-12-07",
          "2018-12-10",
          "2018-12-11",
          "2018-12-12",
          "2018-12-13",
          "2018-12-14",
          "2018-12-17",
          "2018-12-18",
          "2018-12-19",
          "2018-12-20",
          "2018-12-21",
          "2018-12-24",
          "2018-12-26",
          "2018-12-27",
          "2018-12-28",
          "2018-12-31",
          "2019-01-02",
          "2019-01-03",
          "2019-01-04",
          "2019-01-07",
          "2019-01-08"
         ],
         "y": {
          "bdata": "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",
          "dtype": "f8"
         }
        }
       ],
       "layout": {
        "template": {
         "data": {
          "bar": [
           {
            "error_x": {
             "color": "#2a3f5f"
            },
            "error_y": {
             "color": "#2a3f5f"
            },
            "marker": {
             "line": {
              "color": "#E5ECF6",
              "width": 0.5
             },
             "pattern": {
              "fillmode": "overlay",
              "size": 10,
              "solidity": 0.2
             }
            },
            "type": "bar"
           }
          ],
          "barpolar": [
           {
            "marker": {
             "line": {
              "color": "#E5ECF6",
              "width": 0.5
             },
             "pattern": {
              "fillmode": "overlay",
              "size": 10,
              "solidity": 0.2
             }
            },
            "type": "barpolar"
           }
          ],
          "carpet": [
           {
            "aaxis": {
             "endlinecolor": "#2a3f5f",
             "gridcolor": "white",
             "linecolor": "white",
             "minorgridcolor": "white",
             "startlinecolor": "#2a3f5f"
            },
            "baxis": {
             "endlinecolor": "#2a3f5f",
             "gridcolor": "white",
             "linecolor": "white",
             "minorgridcolor": "white",
             "startlinecolor": "#2a3f5f"
            },
            "type": "carpet"
           }
          ],
          "choropleth": [
           {
            "colorbar": {
             "outlinewidth": 0,
             "ticks": ""
            },
            "type": "choropleth"
           }
          ],
          "contour": [
           {
            "colorbar": {
             "outlinewidth": 0,
             "ticks": ""
            },
            "colorscale": [
             [
              0,
              "#0d0887"
             ],
             [
              0.1111111111111111,
              "#46039f"
             ],
             [
              0.2222222222222222,
              "#7201a8"
             ],
             [
              0.3333333333333333,
              "#9c179e"
             ],
             [
              0.4444444444444444,
              "#bd3786"
             ],
             [
              0.5555555555555556,
              "#d8576b"
             ],
             [
              0.6666666666666666,
              "#ed7953"
             ],
             [
              0.7777777777777778,
              "#fb9f3a"
             ],
             [
              0.8888888888888888,
              "#fdca26"
             ],
             [
              1,
              "#f0f921"
             ]
            ],
            "type": "contour"
           }
          ],
          "contourcarpet": [
           {
            "colorbar": {
             "outlinewidth": 0,
             "ticks": ""
            },
            "type": "contourcarpet"
           }
          ],
          "heatmap": [
           {
            "colorbar": {
             "outlinewidth": 0,
             "ticks": ""
            },
            "colorscale": [
             [
              0,
              "#0d0887"
             ],
             [
              0.1111111111111111,
              "#46039f"
             ],
             [
              0.2222222222222222,
              "#7201a8"
             ],
             [
              0.3333333333333333,
              "#9c179e"
             ],
             [
              0.4444444444444444,
              "#bd3786"
             ],
             [
              0.5555555555555556,
              "#d8576b"
             ],
             [
              0.6666666666666666,
              "#ed7953"
             ],
             [
              0.7777777777777778,
              "#fb9f3a"
             ],
             [
              0.8888888888888888,
              "#fdca26"
             ],
             [
              1,
              "#f0f921"
             ]
            ],
            "type": "heatmap"
           }
          ],
          "histogram": [
           {
            "marker": {
             "pattern": {
              "fillmode": "overlay",
              "size": 10,
              "solidity": 0.2
             }
            },
            "type": "histogram"
           }
          ],
          "histogram2d": [
           {
            "colorbar": {
             "outlinewidth": 0,
             "ticks": ""
            },
            "colorscale": [
             [
              0,
              "#0d0887"
             ],
             [
              0.1111111111111111,
              "#46039f"
             ],
             [
              0.2222222222222222,
              "#7201a8"
             ],
             [
              0.3333333333333333,
              "#9c179e"
             ],
             [
              0.4444444444444444,
              "#bd3786"
             ],
             [
              0.5555555555555556,
              "#d8576b"
             ],
             [
              0.6666666666666666,
              "#ed7953"
             ],
             [
              0.7777777777777778,
              "#fb9f3a"
             ],
             [
              0.8888888888888888,
              "#fdca26"
             ],
             [
              1,
              "#f0f921"
             ]
            ],
            "type": "histogram2d"
           }
          ],
          "histogram2dcontour": [
           {
            "colorbar": {
             "outlinewidth": 0,
             "ticks": ""
            },
            "colorscale": [
             [
              0,
              "#0d0887"
             ],
             [
              0.1111111111111111,
              "#46039f"
             ],
             [
              0.2222222222222222,
              "#7201a8"
             ],
             [
              0.3333333333333333,
              "#9c179e"
             ],
             [
              0.4444444444444444,
              "#bd3786"
             ],
             [
              0.5555555555555556,
              "#d8576b"
             ],
             [
              0.6666666666666666,
              "#ed7953"
             ],
             [
              0.7777777777777778,
              "#fb9f3a"
             ],
             [
              0.8888888888888888,
              "#fdca26"
             ],
             [
              1,
              "#f0f921"
             ]
            ],
            "type": "histogram2dcontour"
           }
          ],
          "mesh3d": [
           {
            "colorbar": {
             "outlinewidth": 0,
             "ticks": ""
            },
            "type": "mesh3d"
           }
          ],
          "parcoords": [
           {
            "line": {
             "colorbar": {
              "outlinewidth": 0,
              "ticks": ""
             }
            },
            "type": "parcoords"
           }
          ],
          "pie": [
           {
            "automargin": true,
            "type": "pie"
           }
          ],
          "scatter": [
           {
            "fillpattern": {
             "fillmode": "overlay",
             "size": 10,
             "solidity": 0.2
            },
            "type": "scatter"
           }
          ],
          "scatter3d": [
           {
            "line": {
             "colorbar": {
              "outlinewidth": 0,
              "ticks": ""
             }
            },
            "marker": {
             "colorbar": {
              "outlinewidth": 0,
              "ticks": ""
             }
            },
            "type": "scatter3d"
           }
          ],
          "scattercarpet": [
           {
            "marker": {
             "colorbar": {
              "outlinewidth": 0,
              "ticks": ""
             }
            },
            "type": "scattercarpet"
           }
          ],
          "scattergeo": [
           {
            "marker": {
             "colorbar": {
              "outlinewidth": 0,
              "ticks": ""
             }
            },
            "type": "scattergeo"
           }
          ],
          "scattergl": [
           {
            "marker": {
             "colorbar": {
              "outlinewidth": 0,
              "ticks": ""
             }
            },
            "type": "scattergl"
           }
          ],
          "scattermap": [
           {
            "marker": {
             "colorbar": {
              "outlinewidth": 0,
              "ticks": ""
             }
            },
            "type": "scattermap"
           }
          ],
          "scattermapbox": [
           {
            "marker": {
             "colorbar": {
              "outlinewidth": 0,
              "ticks": ""
             }
            },
            "type": "scattermapbox"
           }
          ],
          "scatterpolar": [
           {
            "marker": {
             "colorbar": {
              "outlinewidth": 0,
              "ticks": ""
             }
            },
            "type": "scatterpolar"
           }
          ],
          "scatterpolargl": [
           {
            "marker": {
             "colorbar": {
              "outlinewidth": 0,
              "ticks": ""
             }
            },
            "type": "scatterpolargl"
           }
          ],
          "scatterternary": [
           {
            "marker": {
             "colorbar": {
              "outlinewidth": 0,
              "ticks": ""
             }
            },
            "type": "scatterternary"
           }
          ],
          "surface": [
           {
            "colorbar": {
             "outlinewidth": 0,
             "ticks": ""
            },
            "colorscale": [
             [
              0,
              "#0d0887"
             ],
             [
              0.1111111111111111,
              "#46039f"
             ],
             [
              0.2222222222222222,
              "#7201a8"
             ],
             [
              0.3333333333333333,
              "#9c179e"
             ],
             [
              0.4444444444444444,
              "#bd3786"
             ],
             [
              0.5555555555555556,
              "#d8576b"
             ],
             [
              0.6666666666666666,
              "#ed7953"
             ],
             [
              0.7777777777777778,
              "#fb9f3a"
             ],
             [
              0.8888888888888888,
              "#fdca26"
             ],
             [
              1,
              "#f0f921"
             ]
            ],
            "type": "surface"
           }
          ],
          "table": [
           {
            "cells": {
             "fill": {
              "color": "#EBF0F8"
             },
             "line": {
              "color": "white"
             }
            },
            "header": {
             "fill": {
              "color": "#C8D4E3"
             },
             "line": {
              "color": "white"
             }
            },
            "type": "table"
           }
          ]
         },
         "layout": {
          "annotationdefaults": {
           "arrowcolor": "#2a3f5f",
           "arrowhead": 0,
           "arrowwidth": 1
          },
          "autotypenumbers": "strict",
          "coloraxis": {
           "colorbar": {
            "outlinewidth": 0,
            "ticks": ""
           }
          },
          "colorscale": {
           "diverging": [
            [
             0,
             "#8e0152"
            ],
            [
             0.1,
             "#c51b7d"
            ],
            [
             0.2,
             "#de77ae"
            ],
            [
             0.3,
             "#f1b6da"
            ],
            [
             0.4,
             "#fde0ef"
            ],
            [
             0.5,
             "#f7f7f7"
            ],
            [
             0.6,
             "#e6f5d0"
            ],
            [
             0.7,
             "#b8e186"
            ],
            [
             0.8,
             "#7fbc41"
            ],
            [
             0.9,
             "#4d9221"
            ],
            [
             1,
             "#276419"
            ]
           ],
           "sequential": [
            [
             0,
             "#0d0887"
            ],
            [
             0.1111111111111111,
             "#46039f"
            ],
            [
             0.2222222222222222,
             "#7201a8"
            ],
            [
             0.3333333333333333,
             "#9c179e"
            ],
            [
             0.4444444444444444,
             "#bd3786"
            ],
            [
             0.5555555555555556,
             "#d8576b"
            ],
            [
             0.6666666666666666,
             "#ed7953"
            ],
            [
             0.7777777777777778,
             "#fb9f3a"
            ],
            [
             0.8888888888888888,
             "#fdca26"
            ],
            [
             1,
             "#f0f921"
            ]
           ],
           "sequentialminus": [
            [
             0,
             "#0d0887"
            ],
            [
             0.1111111111111111,
             "#46039f"
            ],
            [
             0.2222222222222222,
             "#7201a8"
            ],
            [
             0.3333333333333333,
             "#9c179e"
            ],
            [
             0.4444444444444444,
             "#bd3786"
            ],
            [
             0.5555555555555556,
             "#d8576b"
            ],
            [
             0.6666666666666666,
             "#ed7953"
            ],
            [
             0.7777777777777778,
             "#fb9f3a"
            ],
            [
             0.8888888888888888,
             "#fdca26"
            ],
            [
             1,
             "#f0f921"
            ]
           ]
          },
          "colorway": [
           "#636efa",
           "#EF553B",
           "#00cc96",
           "#ab63fa",
           "#FFA15A",
           "#19d3f3",
           "#FF6692",
           "#B6E880",
           "#FF97FF",
           "#FECB52"
          ],
          "font": {
           "color": "#2a3f5f"
          },
          "geo": {
           "bgcolor": "white",
           "lakecolor": "white",
           "landcolor": "#E5ECF6",
           "showlakes": true,
           "showland": true,
           "subunitcolor": "white"
          },
          "hoverlabel": {
           "align": "left"
          },
          "hovermode": "closest",
          "mapbox": {
           "style": "light"
          },
          "paper_bgcolor": "white",
          "plot_bgcolor": "#E5ECF6",
          "polar": {
           "angularaxis": {
            "gridcolor": "white",
            "linecolor": "white",
            "ticks": ""
           },
           "bgcolor": "#E5ECF6",
           "radialaxis": {
            "gridcolor": "white",
            "linecolor": "white",
            "ticks": ""
           }
          },
          "scene": {
           "xaxis": {
            "backgroundcolor": "#E5ECF6",
            "gridcolor": "white",
            "gridwidth": 2,
            "linecolor": "white",
            "showbackground": true,
            "ticks": "",
            "zerolinecolor": "white"
           },
           "yaxis": {
            "backgroundcolor": "#E5ECF6",
            "gridcolor": "white",
            "gridwidth": 2,
            "linecolor": "white",
            "showbackground": true,
            "ticks": "",
            "zerolinecolor": "white"
           },
           "zaxis": {
            "backgroundcolor": "#E5ECF6",
            "gridcolor": "white",
            "gridwidth": 2,
            "linecolor": "white",
            "showbackground": true,
            "ticks": "",
            "zerolinecolor": "white"
           }
          },
          "shapedefaults": {
           "line": {
            "color": "#2a3f5f"
           }
          },
          "ternary": {
           "aaxis": {
            "gridcolor": "white",
            "linecolor": "white",
            "ticks": ""
           },
           "baxis": {
            "gridcolor": "white",
            "linecolor": "white",
            "ticks": ""
           },
           "bgcolor": "#E5ECF6",
           "caxis": {
            "gridcolor": "white",
            "linecolor": "white",
            "ticks": ""
           }
          },
          "title": {
           "x": 0.05
          },
          "xaxis": {
           "automargin": true,
           "gridcolor": "white",
           "linecolor": "white",
           "ticks": "",
           "title": {
            "standoff": 15
           },
           "zerolinecolor": "white",
           "zerolinewidth": 2
          },
          "yaxis": {
           "automargin": true,
           "gridcolor": "white",
           "linecolor": "white",
           "ticks": "",
           "title": {
            "standoff": 15
           },
           "zerolinecolor": "white",
           "zerolinewidth": 2
          }
         }
        },
        "title": {
         "text": "Validation Comparison"
        },
        "xaxis": {
         "title": {
          "text": "Dates"
         }
        },
        "yaxis": {
         "title": {
          "text": "Price"
         }
        }
       }
      }
     },
     "metadata": {},
     "output_type": "display_data"
    }
   ],
   "source": [
    "# Plot the performace of Validation\n",
    "x_val =  list(range(len(y_val_true)))\n",
    "fig_val = go.Figure()\n",
    "fig_val.add_trace(go.Scatter(x=val_dates, y=y_val_true, mode=\"lines\", name=\"True\"))\n",
    "fig_val.add_trace(go.Scatter(x=val_dates, y=y_val_pred, mode=\"lines\", name=\"Prediction\"))\n",
    "fig_val.update_layout(title_text='Validation Comparison', xaxis_title='Dates', yaxis_title='Price')\n",
    "fig_val.show()\n"
   ]
  },
  {
   "cell_type": "code",
   "execution_count": null,
   "id": "dcb74e43",
   "metadata": {},
   "outputs": [],
   "source": []
  }
 ],
 "metadata": {
  "kernelspec": {
   "display_name": "venv",
   "language": "python",
   "name": "python3"
  },
  "language_info": {
   "codemirror_mode": {
    "name": "ipython",
    "version": 3
   },
   "file_extension": ".py",
   "mimetype": "text/x-python",
   "name": "python",
   "nbconvert_exporter": "python",
   "pygments_lexer": "ipython3",
   "version": "3.10.0"
  }
 },
 "nbformat": 4,
 "nbformat_minor": 5
}
