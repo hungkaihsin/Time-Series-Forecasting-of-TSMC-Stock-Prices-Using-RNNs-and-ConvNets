{
 "cells": [
  {
   "cell_type": "code",
   "execution_count": 7,
   "id": "fdd096b1",
   "metadata": {},
   "outputs": [],
   "source": [
    "from src.api.models.tools.plot import plot\n",
    "from src.api.models.prediction import lstm_prediction"
   ]
  },
  {
   "cell_type": "code",
   "execution_count": 8,
   "id": "9fef269c",
   "metadata": {},
   "outputs": [
    {
     "name": "stdout",
     "output_type": "stream",
     "text": [
      "Reloading Tuner from src/dataset/tuning/lstm/tuner0.json\n",
      "\u001b[1m8/8\u001b[0m \u001b[32m━━━━━━━━━━━━━━━━━━━━\u001b[0m\u001b[37m\u001b[0m \u001b[1m0s\u001b[0m 8ms/step \n",
      "\u001b[1m8/8\u001b[0m \u001b[32m━━━━━━━━━━━━━━━━━━━━\u001b[0m\u001b[37m\u001b[0m \u001b[1m0s\u001b[0m 2ms/step\n"
     ]
    },
    {
     "name": "stderr",
     "output_type": "stream",
     "text": [
      "/Users/danielhung/Desktop/Project/Personal/Stock prediciton/.venv/lib/python3.12/site-packages/keras/src/saving/saving_lib.py:802: UserWarning:\n",
      "\n",
      "Skipping variable loading for optimizer 'adam', because it has 2 variables whereas the saved optimizer has 16 variables. \n",
      "\n"
     ]
    }
   ],
   "source": [
    "plot(lstm_prediction())"
   ]
  },
  {
   "cell_type": "code",
   "execution_count": null,
   "id": "b3551fe3",
   "metadata": {},
   "outputs": [],
   "source": []
  }
 ],
 "metadata": {
  "kernelspec": {
   "display_name": ".venv",
   "language": "python",
   "name": "python3"
  },
  "language_info": {
   "codemirror_mode": {
    "name": "ipython",
    "version": 3
   },
   "file_extension": ".py",
   "mimetype": "text/x-python",
   "name": "python",
   "nbconvert_exporter": "python",
   "pygments_lexer": "ipython3",
   "version": "3.12.10"
  }
 },
 "nbformat": 4,
 "nbformat_minor": 5
}
