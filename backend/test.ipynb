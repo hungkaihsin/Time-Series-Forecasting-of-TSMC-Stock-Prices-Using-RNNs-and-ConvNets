{
 "cells": [
  {
   "cell_type": "code",
   "execution_count": 1,
   "id": "fdd096b1",
   "metadata": {},
   "outputs": [],
   "source": [
    "from src.api.models.tools import download\n",
    "from src.api.models.preprocess import preprocess_dataset\n",
    "from src.api.models.model import lstm_tuner\n",
    "from keras.callbacks import EarlyStopping\n",
    "from sklearn.metrics import mean_absolute_error\n",
    "import plotly.graph_objects as go"
   ]
  },
  {
   "cell_type": "code",
   "execution_count": 2,
   "id": "d9fa9c4f",
   "metadata": {},
   "outputs": [],
   "source": [
    "data = preprocess_dataset('src/dataset/TSM_data.csv')\n",
    "X_train, y_train = data['X_train'], data['y_train']\n",
    "X_val, y_val = data['X_val'], data['y_val']\n",
    "X_test, y_test = data['X_test'], data['y_test']\n",
    "scaler = data['target_scaler']\n",
    "df = data['df']"
   ]
  },
  {
   "cell_type": "code",
   "execution_count": 3,
   "id": "0e552439",
   "metadata": {},
   "outputs": [
    {
     "name": "stdout",
     "output_type": "stream",
     "text": [
      "Trial 30 Complete [00h 00m 23s]\n",
      "val_mae: 0.014140954241156578\n",
      "\n",
      "Best val_mae So Far: 0.013609197456389666\n",
      "Total elapsed time: 00h 08m 49s\n"
     ]
    },
    {
     "name": "stderr",
     "output_type": "stream",
     "text": [
      "c:\\Users\\danie\\Desktop\\Project\\Time-Series-Forecasting-of-TSMC-Stock-Prices-Using-RNNs-and-ConvNets\\backend\\venv\\lib\\site-packages\\keras\\src\\saving\\saving_lib.py:802: UserWarning: Skipping variable loading for optimizer 'adam', because it has 2 variables whereas the saved optimizer has 16 variables. \n",
      "  saveable.load_own_variables(weights_store.get(inner_path))\n"
     ]
    }
   ],
   "source": [
    "tuner = lstm_tuner()\n",
    "early_stop = EarlyStopping(patience=10, restore_best_weights=True)\n",
    "\n",
    "tuner.search(X_train, y_train, validation_data=(X_val, y_val), epochs=100, batch_size=32, callbacks=[early_stop])\n",
    "\n",
    "best_model = tuner.get_best_models(1)[0]"
   ]
  }
 ],
 "metadata": {
  "kernelspec": {
   "display_name": "venv",
   "language": "python",
   "name": "python3"
  },
  "language_info": {
   "codemirror_mode": {
    "name": "ipython",
    "version": 3
   },
   "file_extension": ".py",
   "mimetype": "text/x-python",
   "name": "python",
   "nbconvert_exporter": "python",
   "pygments_lexer": "ipython3",
   "version": "3.10.0"
  }
 },
 "nbformat": 4,
 "nbformat_minor": 5
}
